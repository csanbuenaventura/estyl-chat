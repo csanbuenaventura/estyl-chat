{
 "cells": [
  {
   "cell_type": "markdown",
   "id": "a85501ca-eb89-4795-aeab-cdab050ead6b",
   "metadata": {},
   "source": [
    "# Environment  "
   ]
  },
  {
   "cell_type": "code",
   "execution_count": 1,
   "id": "2f4a6ae8-d381-4d4a-8850-4b2a8fd99277",
   "metadata": {},
   "outputs": [],
   "source": [
    "# %%capture --no-stderr\n",
    "# %pip install --quiet -U langchain langchain_community tiktoken langchain-mistralai scikit-learn langgraph tavily-python bs4"
   ]
  },
  {
   "cell_type": "code",
   "execution_count": 2,
   "id": "3e9453a7",
   "metadata": {},
   "outputs": [],
   "source": [
    "# !pip install scikit-learn"
   ]
  },
  {
   "cell_type": "code",
   "execution_count": 5,
   "id": "6d2c774b-9493-4979-afe6-aebbcf01ff3e",
   "metadata": {},
   "outputs": [],
   "source": [
    "import os, getpass\n",
    "\n",
    "def _set_env(var: str):\n",
    "    if not os.environ.get(var):\n",
    "        os.environ[var] = getpass.getpass(f\"{var}: \")\n",
    "\n",
    "# _set_env(\"TAVILY_API_KEY\")\n",
    "os.environ['TOKENIZERS_PARALLELISM'] = 'true'"
   ]
  },
  {
   "cell_type": "code",
   "execution_count": 10,
   "id": "08edba00-988a-478b-96fc-ae0199cbef49",
   "metadata": {},
   "outputs": [],
   "source": [
    "# _set_env(\"LANGCHAIN_API_KEY\")\n",
    "os.environ['LANGCHAIN_TRACING_V2'] = 'true'\n",
    "os.environ['LANGCHAIN_ENDPOINT'] = 'https://api.smith.langchain.com'\n",
    "os.environ['LANGCHAIN_API_KEY'] = \"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\"\n",
    "os.environ[\"LANGCHAIN_PROJECT\"] = \"estyl\"\n",
    "os.environ['TAVILY_API_KEY'] = \"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\"\n",
    "os.environ[\"OPENAI_API_KEY\"] = \"sk-svcacct-vZG2VCHIjZUn7fl3EmK51F77F3aPcLnrVf7Bd0-Z0DUzt9Zv9mfomR09b_7gvT3BlbkFJPnOvUAPfOk75znoM8NPQDGS8KAEhSuj82s5I5jmjpvLo7-13URd9cnDBHk_wgA\""
   ]
  },
  {
   "cell_type": "markdown",
   "id": "9ac1c2cd-81fb-40eb-8ba1-e9197800cba6",
   "metadata": {},
   "source": [
    "## Index"
   ]
  },
  {
   "cell_type": "code",
   "execution_count": 11,
   "id": "b224e5ba-50ca-495a-a7fa-0f75a080e03c",
   "metadata": {},
   "outputs": [],
   "source": [
    "from langchain.text_splitter import RecursiveCharacterTextSplitter\n",
    "from langchain_community.document_loaders import WebBaseLoader\n",
    "from langchain_community.vectorstores import SKLearnVectorStore\n",
    "from langchain.embeddings.openai import OpenAIEmbeddings\n",
    "from langchain_community.document_loaders import PyPDFLoader\n",
    "\n",
    "from langchain_core.vectorstores import InMemoryVectorStore\n",
    "from langchain_openai import OpenAIEmbeddings\n",
    "from langchain_text_splitters import RecursiveCharacterTextSplitter\n",
    "import sys\n",
    "sys.path.append('chains')\n",
    "sys.path.append('tools')\n",
    "sys.path.append('graph')\n",
    "from chains import *\n",
    "from tools import *\n",
    "from graph import *"
   ]
  },
  {
   "cell_type": "markdown",
   "id": "0f52b427-750c-40f8-8893-e9caab3afd8d",
   "metadata": {},
   "source": [
    "## LLMs"
   ]
  },
  {
   "cell_type": "code",
   "execution_count": 12,
   "id": "b6d7f5ae-aac9-4f08-a264-0c3c4495c50b",
   "metadata": {},
   "outputs": [
    {
     "name": "stdout",
     "output_type": "stream",
     "text": [
      "115\n"
     ]
    }
   ],
   "source": [
    "### Set LLM\n",
    "from langchain_openai import ChatOpenAI # from langchain_mistralai import ChatMistralAI\n",
    "mistral_model = \"mistral-large-latest\" # \"open-mixtral-8x22b\" \n",
    "llm = ChatOpenAI()\n",
    "\n",
    "loader = PyPDFLoader('pdfs/ESTYL _ STYLE GUIDE (pdf).pdf')\n",
    "\n",
    "docs = loader.load()\n",
    "\n",
    "print(len(docs))\n",
    "\n",
    "text_splitter = RecursiveCharacterTextSplitter(chunk_size=1000, chunk_overlap=200)\n",
    "splits = text_splitter.split_documents(docs)\n",
    "vectorstore = InMemoryVectorStore.from_documents(\n",
    "    documents=splits, embedding=OpenAIEmbeddings()\n",
    ")\n",
    "\n",
    "retriever = vectorstore.as_retriever()"
   ]
  },
  {
   "cell_type": "code",
   "execution_count": 13,
   "id": "4dec9d98-f3dc-4b7f-abc0-9d01c754f2be",
   "metadata": {},
   "outputs": [
    {
     "name": "stdout",
     "output_type": "stream",
     "text": [
      "datasource='generate'\n",
      "datasource='generate'\n"
     ]
    }
   ],
   "source": [
    "import chains\n",
    "\n",
    "### Router\n",
    "\n",
    "# Chain the prompt and the structured LLM output\n",
    "router_chain = get_router_chain(llm)\n",
    "\n",
    "# Test the router with example questions\n",
    "question_1 = \"How to dress up for a wedding?\"\n",
    "question_2 = \"What are the types of agent memory?\"\n",
    "\n",
    "# Invoke the router chain for both questions\n",
    "result_1 = router_chain.invoke({\"question\": question_1})\n",
    "result_2 = router_chain.invoke({\"question\": question_2})\n",
    "\n",
    "# Print the results\n",
    "print(result_1)\n",
    "print(result_2)"
   ]
  },
  {
   "cell_type": "code",
   "execution_count": 14,
   "id": "856801cb-f42a-44e7-956f-47845e3664ca",
   "metadata": {},
   "outputs": [
    {
     "name": "stdout",
     "output_type": "stream",
     "text": [
      "binary_score='yes'\n"
     ]
    }
   ],
   "source": [
    "### Retrieval Grader \n",
    "\n",
    "retrieval_grader_chain = get_retrieval_grader_chain(llm)\n",
    "question = \"What is posh style?\"\n",
    "docs = retriever.invoke(question)\n",
    "doc_txt = docs[1].page_content\n",
    "print(retrieval_grader_chain.invoke({\"question\": question, \"document\": doc_txt}))"
   ]
  },
  {
   "cell_type": "code",
   "execution_count": 15,
   "id": "2272333e-50b2-42ab-b472-e1055a3b94a8",
   "metadata": {},
   "outputs": [
    {
     "ename": "KeyError",
     "evalue": "'messages'",
     "output_type": "error",
     "traceback": [
      "\u001b[0;31m---------------------------------------------------------------------------\u001b[0m",
      "\u001b[0;31mKeyError\u001b[0m                                  Traceback (most recent call last)",
      "Cell \u001b[0;32mIn[15], line 6\u001b[0m\n\u001b[1;32m      3\u001b[0m rag_chain \u001b[38;5;241m=\u001b[39m get_generate_chain(llm)\n\u001b[1;32m      5\u001b[0m \u001b[38;5;66;03m# Run\u001b[39;00m\n\u001b[0;32m----> 6\u001b[0m generation \u001b[38;5;241m=\u001b[39m rag_chain\u001b[38;5;241m.\u001b[39minvoke({\u001b[38;5;124m\"\u001b[39m\u001b[38;5;124mcontext\u001b[39m\u001b[38;5;124m\"\u001b[39m: docs, \u001b[38;5;124m\"\u001b[39m\u001b[38;5;124mquestion\u001b[39m\u001b[38;5;124m\"\u001b[39m: \u001b[38;5;124m\"\u001b[39m\u001b[38;5;124mWhat is posh style?\u001b[39m\u001b[38;5;124m\"\u001b[39m})\n\u001b[1;32m      7\u001b[0m \u001b[38;5;28mprint\u001b[39m(generation)\n",
      "File \u001b[0;32m~/opt/anaconda3/envs/estyl/lib/python3.11/site-packages/langchain_core/runnables/base.py:3022\u001b[0m, in \u001b[0;36mRunnableSequence.invoke\u001b[0;34m(self, input, config, **kwargs)\u001b[0m\n\u001b[1;32m   3020\u001b[0m context\u001b[38;5;241m.\u001b[39mrun(_set_config_context, config)\n\u001b[1;32m   3021\u001b[0m \u001b[38;5;28;01mif\u001b[39;00m i \u001b[38;5;241m==\u001b[39m \u001b[38;5;241m0\u001b[39m:\n\u001b[0;32m-> 3022\u001b[0m     \u001b[38;5;28minput\u001b[39m \u001b[38;5;241m=\u001b[39m context\u001b[38;5;241m.\u001b[39mrun(step\u001b[38;5;241m.\u001b[39minvoke, \u001b[38;5;28minput\u001b[39m, config, \u001b[38;5;241m*\u001b[39m\u001b[38;5;241m*\u001b[39mkwargs)\n\u001b[1;32m   3023\u001b[0m \u001b[38;5;28;01melse\u001b[39;00m:\n\u001b[1;32m   3024\u001b[0m     \u001b[38;5;28minput\u001b[39m \u001b[38;5;241m=\u001b[39m context\u001b[38;5;241m.\u001b[39mrun(step\u001b[38;5;241m.\u001b[39minvoke, \u001b[38;5;28minput\u001b[39m, config)\n",
      "File \u001b[0;32m~/opt/anaconda3/envs/estyl/lib/python3.11/site-packages/langchain_core/prompts/base.py:208\u001b[0m, in \u001b[0;36mBasePromptTemplate.invoke\u001b[0;34m(self, input, config, **kwargs)\u001b[0m\n\u001b[1;32m    206\u001b[0m \u001b[38;5;28;01mif\u001b[39;00m \u001b[38;5;28mself\u001b[39m\u001b[38;5;241m.\u001b[39mtags:\n\u001b[1;32m    207\u001b[0m     config[\u001b[38;5;124m\"\u001b[39m\u001b[38;5;124mtags\u001b[39m\u001b[38;5;124m\"\u001b[39m] \u001b[38;5;241m=\u001b[39m config[\u001b[38;5;124m\"\u001b[39m\u001b[38;5;124mtags\u001b[39m\u001b[38;5;124m\"\u001b[39m] \u001b[38;5;241m+\u001b[39m \u001b[38;5;28mself\u001b[39m\u001b[38;5;241m.\u001b[39mtags\n\u001b[0;32m--> 208\u001b[0m \u001b[38;5;28;01mreturn\u001b[39;00m \u001b[38;5;28mself\u001b[39m\u001b[38;5;241m.\u001b[39m_call_with_config(\n\u001b[1;32m    209\u001b[0m     \u001b[38;5;28mself\u001b[39m\u001b[38;5;241m.\u001b[39m_format_prompt_with_error_handling,\n\u001b[1;32m    210\u001b[0m     \u001b[38;5;28minput\u001b[39m,\n\u001b[1;32m    211\u001b[0m     config,\n\u001b[1;32m    212\u001b[0m     run_type\u001b[38;5;241m=\u001b[39m\u001b[38;5;124m\"\u001b[39m\u001b[38;5;124mprompt\u001b[39m\u001b[38;5;124m\"\u001b[39m,\n\u001b[1;32m    213\u001b[0m     serialized\u001b[38;5;241m=\u001b[39m\u001b[38;5;28mself\u001b[39m\u001b[38;5;241m.\u001b[39m_serialized,\n\u001b[1;32m    214\u001b[0m )\n",
      "File \u001b[0;32m~/opt/anaconda3/envs/estyl/lib/python3.11/site-packages/langchain_core/runnables/base.py:1927\u001b[0m, in \u001b[0;36mRunnable._call_with_config\u001b[0;34m(self, func, input, config, run_type, serialized, **kwargs)\u001b[0m\n\u001b[1;32m   1923\u001b[0m     context \u001b[38;5;241m=\u001b[39m copy_context()\n\u001b[1;32m   1924\u001b[0m     context\u001b[38;5;241m.\u001b[39mrun(_set_config_context, child_config)\n\u001b[1;32m   1925\u001b[0m     output \u001b[38;5;241m=\u001b[39m cast(\n\u001b[1;32m   1926\u001b[0m         Output,\n\u001b[0;32m-> 1927\u001b[0m         context\u001b[38;5;241m.\u001b[39mrun(\n\u001b[1;32m   1928\u001b[0m             call_func_with_variable_args,  \u001b[38;5;66;03m# type: ignore[arg-type]\u001b[39;00m\n\u001b[1;32m   1929\u001b[0m             func,  \u001b[38;5;66;03m# type: ignore[arg-type]\u001b[39;00m\n\u001b[1;32m   1930\u001b[0m             \u001b[38;5;28minput\u001b[39m,  \u001b[38;5;66;03m# type: ignore[arg-type]\u001b[39;00m\n\u001b[1;32m   1931\u001b[0m             config,\n\u001b[1;32m   1932\u001b[0m             run_manager,\n\u001b[1;32m   1933\u001b[0m             \u001b[38;5;241m*\u001b[39m\u001b[38;5;241m*\u001b[39mkwargs,\n\u001b[1;32m   1934\u001b[0m         ),\n\u001b[1;32m   1935\u001b[0m     )\n\u001b[1;32m   1936\u001b[0m \u001b[38;5;28;01mexcept\u001b[39;00m \u001b[38;5;167;01mBaseException\u001b[39;00m \u001b[38;5;28;01mas\u001b[39;00m e:\n\u001b[1;32m   1937\u001b[0m     run_manager\u001b[38;5;241m.\u001b[39mon_chain_error(e)\n",
      "File \u001b[0;32m~/opt/anaconda3/envs/estyl/lib/python3.11/site-packages/langchain_core/runnables/config.py:396\u001b[0m, in \u001b[0;36mcall_func_with_variable_args\u001b[0;34m(func, input, config, run_manager, **kwargs)\u001b[0m\n\u001b[1;32m    394\u001b[0m \u001b[38;5;28;01mif\u001b[39;00m run_manager \u001b[38;5;129;01mis\u001b[39;00m \u001b[38;5;129;01mnot\u001b[39;00m \u001b[38;5;28;01mNone\u001b[39;00m \u001b[38;5;129;01mand\u001b[39;00m accepts_run_manager(func):\n\u001b[1;32m    395\u001b[0m     kwargs[\u001b[38;5;124m\"\u001b[39m\u001b[38;5;124mrun_manager\u001b[39m\u001b[38;5;124m\"\u001b[39m] \u001b[38;5;241m=\u001b[39m run_manager\n\u001b[0;32m--> 396\u001b[0m \u001b[38;5;28;01mreturn\u001b[39;00m func(\u001b[38;5;28minput\u001b[39m, \u001b[38;5;241m*\u001b[39m\u001b[38;5;241m*\u001b[39mkwargs)\n",
      "File \u001b[0;32m~/opt/anaconda3/envs/estyl/lib/python3.11/site-packages/langchain_core/prompts/base.py:183\u001b[0m, in \u001b[0;36mBasePromptTemplate._format_prompt_with_error_handling\u001b[0;34m(self, inner_input)\u001b[0m\n\u001b[1;32m    181\u001b[0m \u001b[38;5;28;01mdef\u001b[39;00m \u001b[38;5;21m_format_prompt_with_error_handling\u001b[39m(\u001b[38;5;28mself\u001b[39m, inner_input: \u001b[38;5;28mdict\u001b[39m) \u001b[38;5;241m-\u001b[39m\u001b[38;5;241m>\u001b[39m PromptValue:\n\u001b[1;32m    182\u001b[0m     _inner_input \u001b[38;5;241m=\u001b[39m \u001b[38;5;28mself\u001b[39m\u001b[38;5;241m.\u001b[39m_validate_input(inner_input)\n\u001b[0;32m--> 183\u001b[0m     \u001b[38;5;28;01mreturn\u001b[39;00m \u001b[38;5;28mself\u001b[39m\u001b[38;5;241m.\u001b[39mformat_prompt(\u001b[38;5;241m*\u001b[39m\u001b[38;5;241m*\u001b[39m_inner_input)\n",
      "File \u001b[0;32m~/opt/anaconda3/envs/estyl/lib/python3.11/site-packages/langchain_core/prompts/chat.py:777\u001b[0m, in \u001b[0;36mBaseChatPromptTemplate.format_prompt\u001b[0;34m(self, **kwargs)\u001b[0m\n\u001b[1;32m    768\u001b[0m \u001b[38;5;28;01mdef\u001b[39;00m \u001b[38;5;21mformat_prompt\u001b[39m(\u001b[38;5;28mself\u001b[39m, \u001b[38;5;241m*\u001b[39m\u001b[38;5;241m*\u001b[39mkwargs: Any) \u001b[38;5;241m-\u001b[39m\u001b[38;5;241m>\u001b[39m PromptValue:\n\u001b[1;32m    769\u001b[0m \u001b[38;5;250m    \u001b[39m\u001b[38;5;124;03m\"\"\"Format prompt. Should return a PromptValue.\u001b[39;00m\n\u001b[1;32m    770\u001b[0m \n\u001b[1;32m    771\u001b[0m \u001b[38;5;124;03m    Args:\u001b[39;00m\n\u001b[0;32m   (...)\u001b[0m\n\u001b[1;32m    775\u001b[0m \u001b[38;5;124;03m        PromptValue.\u001b[39;00m\n\u001b[1;32m    776\u001b[0m \u001b[38;5;124;03m    \"\"\"\u001b[39;00m\n\u001b[0;32m--> 777\u001b[0m     messages \u001b[38;5;241m=\u001b[39m \u001b[38;5;28mself\u001b[39m\u001b[38;5;241m.\u001b[39mformat_messages(\u001b[38;5;241m*\u001b[39m\u001b[38;5;241m*\u001b[39mkwargs)\n\u001b[1;32m    778\u001b[0m     \u001b[38;5;28;01mreturn\u001b[39;00m ChatPromptValue(messages\u001b[38;5;241m=\u001b[39mmessages)\n",
      "File \u001b[0;32m~/opt/anaconda3/envs/estyl/lib/python3.11/site-packages/langchain_core/prompts/chat.py:1220\u001b[0m, in \u001b[0;36mChatPromptTemplate.format_messages\u001b[0;34m(self, **kwargs)\u001b[0m\n\u001b[1;32m   1216\u001b[0m     result\u001b[38;5;241m.\u001b[39mextend([message_template])\n\u001b[1;32m   1217\u001b[0m \u001b[38;5;28;01melif\u001b[39;00m \u001b[38;5;28misinstance\u001b[39m(\n\u001b[1;32m   1218\u001b[0m     message_template, (BaseMessagePromptTemplate, BaseChatPromptTemplate)\n\u001b[1;32m   1219\u001b[0m ):\n\u001b[0;32m-> 1220\u001b[0m     message \u001b[38;5;241m=\u001b[39m message_template\u001b[38;5;241m.\u001b[39mformat_messages(\u001b[38;5;241m*\u001b[39m\u001b[38;5;241m*\u001b[39mkwargs)\n\u001b[1;32m   1221\u001b[0m     result\u001b[38;5;241m.\u001b[39mextend(message)\n\u001b[1;32m   1222\u001b[0m \u001b[38;5;28;01melse\u001b[39;00m:\n",
      "File \u001b[0;32m~/opt/anaconda3/envs/estyl/lib/python3.11/site-packages/langchain_core/prompts/chat.py:604\u001b[0m, in \u001b[0;36m_StringImageMessagePromptTemplate.format_messages\u001b[0;34m(self, **kwargs)\u001b[0m\n\u001b[1;32m    595\u001b[0m \u001b[38;5;28;01mdef\u001b[39;00m \u001b[38;5;21mformat_messages\u001b[39m(\u001b[38;5;28mself\u001b[39m, \u001b[38;5;241m*\u001b[39m\u001b[38;5;241m*\u001b[39mkwargs: Any) \u001b[38;5;241m-\u001b[39m\u001b[38;5;241m>\u001b[39m \u001b[38;5;28mlist\u001b[39m[BaseMessage]:\n\u001b[1;32m    596\u001b[0m \u001b[38;5;250m    \u001b[39m\u001b[38;5;124;03m\"\"\"Format messages from kwargs.\u001b[39;00m\n\u001b[1;32m    597\u001b[0m \n\u001b[1;32m    598\u001b[0m \u001b[38;5;124;03m    Args:\u001b[39;00m\n\u001b[0;32m   (...)\u001b[0m\n\u001b[1;32m    602\u001b[0m \u001b[38;5;124;03m        List of BaseMessages.\u001b[39;00m\n\u001b[1;32m    603\u001b[0m \u001b[38;5;124;03m    \"\"\"\u001b[39;00m\n\u001b[0;32m--> 604\u001b[0m     \u001b[38;5;28;01mreturn\u001b[39;00m [\u001b[38;5;28mself\u001b[39m\u001b[38;5;241m.\u001b[39mformat(\u001b[38;5;241m*\u001b[39m\u001b[38;5;241m*\u001b[39mkwargs)]\n",
      "File \u001b[0;32m~/opt/anaconda3/envs/estyl/lib/python3.11/site-packages/langchain_core/prompts/chat.py:639\u001b[0m, in \u001b[0;36m_StringImageMessagePromptTemplate.format\u001b[0;34m(self, **kwargs)\u001b[0m\n\u001b[1;32m    630\u001b[0m \u001b[38;5;250m\u001b[39m\u001b[38;5;124;03m\"\"\"Format the prompt template.\u001b[39;00m\n\u001b[1;32m    631\u001b[0m \n\u001b[1;32m    632\u001b[0m \u001b[38;5;124;03mArgs:\u001b[39;00m\n\u001b[0;32m   (...)\u001b[0m\n\u001b[1;32m    636\u001b[0m \u001b[38;5;124;03m    Formatted message.\u001b[39;00m\n\u001b[1;32m    637\u001b[0m \u001b[38;5;124;03m\"\"\"\u001b[39;00m\n\u001b[1;32m    638\u001b[0m \u001b[38;5;28;01mif\u001b[39;00m \u001b[38;5;28misinstance\u001b[39m(\u001b[38;5;28mself\u001b[39m\u001b[38;5;241m.\u001b[39mprompt, StringPromptTemplate):\n\u001b[0;32m--> 639\u001b[0m     text \u001b[38;5;241m=\u001b[39m \u001b[38;5;28mself\u001b[39m\u001b[38;5;241m.\u001b[39mprompt\u001b[38;5;241m.\u001b[39mformat(\u001b[38;5;241m*\u001b[39m\u001b[38;5;241m*\u001b[39mkwargs)\n\u001b[1;32m    640\u001b[0m     \u001b[38;5;28;01mreturn\u001b[39;00m \u001b[38;5;28mself\u001b[39m\u001b[38;5;241m.\u001b[39m_msg_class(\n\u001b[1;32m    641\u001b[0m         content\u001b[38;5;241m=\u001b[39mtext, additional_kwargs\u001b[38;5;241m=\u001b[39m\u001b[38;5;28mself\u001b[39m\u001b[38;5;241m.\u001b[39madditional_kwargs\n\u001b[1;32m    642\u001b[0m     )\n\u001b[1;32m    643\u001b[0m \u001b[38;5;28;01melse\u001b[39;00m:\n",
      "File \u001b[0;32m~/opt/anaconda3/envs/estyl/lib/python3.11/site-packages/langchain_core/prompts/prompt.py:181\u001b[0m, in \u001b[0;36mPromptTemplate.format\u001b[0;34m(self, **kwargs)\u001b[0m\n\u001b[1;32m    172\u001b[0m \u001b[38;5;250m\u001b[39m\u001b[38;5;124;03m\"\"\"Format the prompt with the inputs.\u001b[39;00m\n\u001b[1;32m    173\u001b[0m \n\u001b[1;32m    174\u001b[0m \u001b[38;5;124;03mArgs:\u001b[39;00m\n\u001b[0;32m   (...)\u001b[0m\n\u001b[1;32m    178\u001b[0m \u001b[38;5;124;03m    A formatted string.\u001b[39;00m\n\u001b[1;32m    179\u001b[0m \u001b[38;5;124;03m\"\"\"\u001b[39;00m\n\u001b[1;32m    180\u001b[0m kwargs \u001b[38;5;241m=\u001b[39m \u001b[38;5;28mself\u001b[39m\u001b[38;5;241m.\u001b[39m_merge_partial_and_user_variables(\u001b[38;5;241m*\u001b[39m\u001b[38;5;241m*\u001b[39mkwargs)\n\u001b[0;32m--> 181\u001b[0m \u001b[38;5;28;01mreturn\u001b[39;00m DEFAULT_FORMATTER_MAPPING[\u001b[38;5;28mself\u001b[39m\u001b[38;5;241m.\u001b[39mtemplate_format](\u001b[38;5;28mself\u001b[39m\u001b[38;5;241m.\u001b[39mtemplate, \u001b[38;5;241m*\u001b[39m\u001b[38;5;241m*\u001b[39mkwargs)\n",
      "File \u001b[0;32m~/opt/anaconda3/envs/estyl/lib/python3.11/string.py:190\u001b[0m, in \u001b[0;36mFormatter.format\u001b[0;34m(self, format_string, *args, **kwargs)\u001b[0m\n\u001b[1;32m    189\u001b[0m \u001b[38;5;28;01mdef\u001b[39;00m \u001b[38;5;21mformat\u001b[39m(\u001b[38;5;28mself\u001b[39m, format_string, \u001b[38;5;241m/\u001b[39m, \u001b[38;5;241m*\u001b[39margs, \u001b[38;5;241m*\u001b[39m\u001b[38;5;241m*\u001b[39mkwargs):\n\u001b[0;32m--> 190\u001b[0m     \u001b[38;5;28;01mreturn\u001b[39;00m \u001b[38;5;28mself\u001b[39m\u001b[38;5;241m.\u001b[39mvformat(format_string, args, kwargs)\n",
      "File \u001b[0;32m~/opt/anaconda3/envs/estyl/lib/python3.11/site-packages/langchain_core/utils/formatting.py:33\u001b[0m, in \u001b[0;36mStrictFormatter.vformat\u001b[0;34m(self, format_string, args, kwargs)\u001b[0m\n\u001b[1;32m     28\u001b[0m     msg \u001b[38;5;241m=\u001b[39m (\n\u001b[1;32m     29\u001b[0m         \u001b[38;5;124m\"\u001b[39m\u001b[38;5;124mNo arguments should be provided, \u001b[39m\u001b[38;5;124m\"\u001b[39m\n\u001b[1;32m     30\u001b[0m         \u001b[38;5;124m\"\u001b[39m\u001b[38;5;124meverything should be passed as keyword arguments.\u001b[39m\u001b[38;5;124m\"\u001b[39m\n\u001b[1;32m     31\u001b[0m     )\n\u001b[1;32m     32\u001b[0m     \u001b[38;5;28;01mraise\u001b[39;00m \u001b[38;5;167;01mValueError\u001b[39;00m(msg)\n\u001b[0;32m---> 33\u001b[0m \u001b[38;5;28;01mreturn\u001b[39;00m \u001b[38;5;28msuper\u001b[39m()\u001b[38;5;241m.\u001b[39mvformat(format_string, args, kwargs)\n",
      "File \u001b[0;32m~/opt/anaconda3/envs/estyl/lib/python3.11/string.py:194\u001b[0m, in \u001b[0;36mFormatter.vformat\u001b[0;34m(self, format_string, args, kwargs)\u001b[0m\n\u001b[1;32m    192\u001b[0m \u001b[38;5;28;01mdef\u001b[39;00m \u001b[38;5;21mvformat\u001b[39m(\u001b[38;5;28mself\u001b[39m, format_string, args, kwargs):\n\u001b[1;32m    193\u001b[0m     used_args \u001b[38;5;241m=\u001b[39m \u001b[38;5;28mset\u001b[39m()\n\u001b[0;32m--> 194\u001b[0m     result, _ \u001b[38;5;241m=\u001b[39m \u001b[38;5;28mself\u001b[39m\u001b[38;5;241m.\u001b[39m_vformat(format_string, args, kwargs, used_args, \u001b[38;5;241m2\u001b[39m)\n\u001b[1;32m    195\u001b[0m     \u001b[38;5;28mself\u001b[39m\u001b[38;5;241m.\u001b[39mcheck_unused_args(used_args, args, kwargs)\n\u001b[1;32m    196\u001b[0m     \u001b[38;5;28;01mreturn\u001b[39;00m result\n",
      "File \u001b[0;32m~/opt/anaconda3/envs/estyl/lib/python3.11/string.py:234\u001b[0m, in \u001b[0;36mFormatter._vformat\u001b[0;34m(self, format_string, args, kwargs, used_args, recursion_depth, auto_arg_index)\u001b[0m\n\u001b[1;32m    230\u001b[0m     auto_arg_index \u001b[38;5;241m=\u001b[39m \u001b[38;5;28;01mFalse\u001b[39;00m\n\u001b[1;32m    232\u001b[0m \u001b[38;5;66;03m# given the field_name, find the object it references\u001b[39;00m\n\u001b[1;32m    233\u001b[0m \u001b[38;5;66;03m#  and the argument it came from\u001b[39;00m\n\u001b[0;32m--> 234\u001b[0m obj, arg_used \u001b[38;5;241m=\u001b[39m \u001b[38;5;28mself\u001b[39m\u001b[38;5;241m.\u001b[39mget_field(field_name, args, kwargs)\n\u001b[1;32m    235\u001b[0m used_args\u001b[38;5;241m.\u001b[39madd(arg_used)\n\u001b[1;32m    237\u001b[0m \u001b[38;5;66;03m# do any conversion on the resulting object\u001b[39;00m\n",
      "File \u001b[0;32m~/opt/anaconda3/envs/estyl/lib/python3.11/string.py:299\u001b[0m, in \u001b[0;36mFormatter.get_field\u001b[0;34m(self, field_name, args, kwargs)\u001b[0m\n\u001b[1;32m    296\u001b[0m \u001b[38;5;28;01mdef\u001b[39;00m \u001b[38;5;21mget_field\u001b[39m(\u001b[38;5;28mself\u001b[39m, field_name, args, kwargs):\n\u001b[1;32m    297\u001b[0m     first, rest \u001b[38;5;241m=\u001b[39m _string\u001b[38;5;241m.\u001b[39mformatter_field_name_split(field_name)\n\u001b[0;32m--> 299\u001b[0m     obj \u001b[38;5;241m=\u001b[39m \u001b[38;5;28mself\u001b[39m\u001b[38;5;241m.\u001b[39mget_value(first, args, kwargs)\n\u001b[1;32m    301\u001b[0m     \u001b[38;5;66;03m# loop through the rest of the field_name, doing\u001b[39;00m\n\u001b[1;32m    302\u001b[0m     \u001b[38;5;66;03m#  getattr or getitem as needed\u001b[39;00m\n\u001b[1;32m    303\u001b[0m     \u001b[38;5;28;01mfor\u001b[39;00m is_attr, i \u001b[38;5;129;01min\u001b[39;00m rest:\n",
      "File \u001b[0;32m~/opt/anaconda3/envs/estyl/lib/python3.11/string.py:256\u001b[0m, in \u001b[0;36mFormatter.get_value\u001b[0;34m(self, key, args, kwargs)\u001b[0m\n\u001b[1;32m    254\u001b[0m     \u001b[38;5;28;01mreturn\u001b[39;00m args[key]\n\u001b[1;32m    255\u001b[0m \u001b[38;5;28;01melse\u001b[39;00m:\n\u001b[0;32m--> 256\u001b[0m     \u001b[38;5;28;01mreturn\u001b[39;00m kwargs[key]\n",
      "\u001b[0;31mKeyError\u001b[0m: 'messages'"
     ]
    }
   ],
   "source": [
    "### Generate\n",
    "\n",
    "rag_chain = get_generate_chain(llm)\n",
    "\n",
    "# Run\n",
    "generation = rag_chain.invoke({\"context\": docs, \"question\": \"What is posh style?\"})\n",
    "print(generation)"
   ]
  },
  {
   "cell_type": "code",
   "execution_count": null,
   "id": "f0c08d14-77a0-4eed-b882-2d636abb22a3",
   "metadata": {},
   "outputs": [],
   "source": [
    "### Hallucination Grader \n",
    "\n",
    "# Data model\n",
    "hallucination_grader_chain = get_hallucination_grader_chain(llm)\n",
    "hallucination_grader_chain.invoke({\"documents\": docs, \"generation\": generation})"
   ]
  },
  {
   "cell_type": "code",
   "execution_count": null,
   "id": "ded99680-437a-4c9d-b860-619c88949d84",
   "metadata": {},
   "outputs": [],
   "source": [
    "### Answer Grader \n",
    "\n",
    "answer_grader_chain = get_answer_grader_chain(llm)\n",
    "answer_grader_chain.invoke({\"question\": question,\"generation\": generation})"
   ]
  },
  {
   "cell_type": "markdown",
   "id": "d07c0b31-b919-4498-869f-9673125c2473",
   "metadata": {},
   "source": [
    "## Web Search Tool"
   ]
  },
  {
   "cell_type": "code",
   "execution_count": null,
   "id": "01d829bb-1074-4976-b650-ead41dcb9788",
   "metadata": {},
   "outputs": [],
   "source": [
    "web_search_tool = get_web_search_tool()\n",
    "web_search_tool.invoke({\"query\": question})"
   ]
  },
  {
   "cell_type": "code",
   "execution_count": null,
   "id": "aff2d2a7",
   "metadata": {},
   "outputs": [],
   "source": [
    "web_search_tool"
   ]
  },
  {
   "cell_type": "markdown",
   "id": "efbbff0e-8843-45bb-b2ff-137bef707ef4",
   "metadata": {},
   "source": [
    "# Graph \n",
    "\n",
    "### Graph state"
   ]
  },
  {
   "cell_type": "markdown",
   "id": "3ab01f36-5628-49ab-bfd3-84bb6f1a1b0f",
   "metadata": {},
   "source": [
    "## Build Graph"
   ]
  },
  {
   "cell_type": "code",
   "execution_count": null,
   "id": "67854e07-9293-4c3c-bf9a-bc9a605570ee",
   "metadata": {},
   "outputs": [
    {
     "name": "stderr",
     "output_type": "stream",
     "text": [
      "Task exception was never retrieved\n",
      "future: <Task finished name='Task-7' coro=<AsyncClient.aclose() done, defined at /Users/mokkastudios/opt/anaconda3/envs/estyl/lib/python3.11/site-packages/httpx/_client.py:2024> exception=ImportError(\"cannot import name 'ExceptionGroup' from 'anyio._core._exceptions' (/Users/mokkastudios/opt/anaconda3/envs/estyl/lib/python3.11/site-packages/anyio/_core/_exceptions.py)\")>\n",
      "Traceback (most recent call last):\n",
      "  File \"/Users/mokkastudios/opt/anaconda3/envs/estyl/lib/python3.11/site-packages/anyio/_core/_eventloop.py\", line 162, in get_async_backend\n",
      "KeyError: 'asyncio'\n",
      "\n",
      "During handling of the above exception, another exception occurred:\n",
      "\n",
      "Traceback (most recent call last):\n",
      "  File \"/Users/mokkastudios/opt/anaconda3/envs/estyl/lib/python3.11/site-packages/httpx/_client.py\", line 2031, in aclose\n",
      "    await self._transport.aclose()\n",
      "  File \"/Users/mokkastudios/opt/anaconda3/envs/estyl/lib/python3.11/site-packages/httpx/_transports/default.py\", line 389, in aclose\n",
      "    await self._pool.aclose()\n",
      "  File \"/Users/mokkastudios/opt/anaconda3/envs/estyl/lib/python3.11/site-packages/httpcore/_async/connection_pool.py\", line 313, in aclose\n",
      "    await self._close_connections(closing_connections)\n",
      "  File \"/Users/mokkastudios/opt/anaconda3/envs/estyl/lib/python3.11/site-packages/httpcore/_async/connection_pool.py\", line 303, in _close_connections\n",
      "    with AsyncShieldCancellation():\n",
      "         ^^^^^^^^^^^^^^^^^^^^^^^^^\n",
      "  File \"/Users/mokkastudios/opt/anaconda3/envs/estyl/lib/python3.11/site-packages/httpcore/_synchronization.py\", line 207, in __init__\n",
      "    self._anyio_shield = anyio.CancelScope(shield=True)\n",
      "                         ^^^^^^^^^^^^^^^^^^^^^^^^^^^^^^\n",
      "  File \"/Users/mokkastudios/opt/anaconda3/envs/estyl/lib/python3.11/site-packages/anyio/_core/_tasks.py\", line 31, in __new__\n",
      "  File \"/Users/mokkastudios/opt/anaconda3/envs/estyl/lib/python3.11/site-packages/anyio/_core/_eventloop.py\", line 164, in get_async_backend\n",
      "  File \"/Users/mokkastudios/opt/anaconda3/envs/estyl/lib/python3.11/importlib/__init__.py\", line 126, in import_module\n",
      "    return _bootstrap._gcd_import(name[level:], package, level)\n",
      "           ^^^^^^^^^^^^^^^^^^^^^^^^^^^^^^^^^^^^^^^^^^^^^^^^^^^^\n",
      "  File \"<frozen importlib._bootstrap>\", line 1204, in _gcd_import\n",
      "  File \"<frozen importlib._bootstrap>\", line 1176, in _find_and_load\n",
      "  File \"<frozen importlib._bootstrap>\", line 1147, in _find_and_load_unlocked\n",
      "  File \"<frozen importlib._bootstrap>\", line 690, in _load_unlocked\n",
      "  File \"<frozen importlib._bootstrap_external>\", line 940, in exec_module\n",
      "  File \"<frozen importlib._bootstrap>\", line 241, in _call_with_frames_removed\n",
      "  File \"/Users/mokkastudios/opt/anaconda3/envs/estyl/lib/python3.11/site-packages/anyio/_backends/_asyncio.py\", line 61, in <module>\n",
      "    from .._core._exceptions import ExceptionGroup as BaseExceptionGroup\n",
      "ImportError: cannot import name 'ExceptionGroup' from 'anyio._core._exceptions' (/Users/mokkastudios/opt/anaconda3/envs/estyl/lib/python3.11/site-packages/anyio/_core/_exceptions.py)\n",
      "Task exception was never retrieved\n",
      "future: <Task finished name='Task-8' coro=<AsyncClient.aclose() done, defined at /Users/mokkastudios/opt/anaconda3/envs/estyl/lib/python3.11/site-packages/httpx/_client.py:2024> exception=ImportError(\"cannot import name 'ExceptionGroup' from 'anyio._core._exceptions' (/Users/mokkastudios/opt/anaconda3/envs/estyl/lib/python3.11/site-packages/anyio/_core/_exceptions.py)\")>\n",
      "Traceback (most recent call last):\n",
      "  File \"/Users/mokkastudios/opt/anaconda3/envs/estyl/lib/python3.11/site-packages/anyio/_core/_eventloop.py\", line 162, in get_async_backend\n",
      "KeyError: 'asyncio'\n",
      "\n",
      "During handling of the above exception, another exception occurred:\n",
      "\n",
      "Traceback (most recent call last):\n",
      "  File \"/Users/mokkastudios/opt/anaconda3/envs/estyl/lib/python3.11/site-packages/httpx/_client.py\", line 2031, in aclose\n",
      "    await self._transport.aclose()\n",
      "  File \"/Users/mokkastudios/opt/anaconda3/envs/estyl/lib/python3.11/site-packages/httpx/_transports/default.py\", line 389, in aclose\n",
      "    await self._pool.aclose()\n",
      "  File \"/Users/mokkastudios/opt/anaconda3/envs/estyl/lib/python3.11/site-packages/httpcore/_async/connection_pool.py\", line 313, in aclose\n",
      "    await self._close_connections(closing_connections)\n",
      "  File \"/Users/mokkastudios/opt/anaconda3/envs/estyl/lib/python3.11/site-packages/httpcore/_async/connection_pool.py\", line 303, in _close_connections\n",
      "    with AsyncShieldCancellation():\n",
      "         ^^^^^^^^^^^^^^^^^^^^^^^^^\n",
      "  File \"/Users/mokkastudios/opt/anaconda3/envs/estyl/lib/python3.11/site-packages/httpcore/_synchronization.py\", line 207, in __init__\n",
      "    self._anyio_shield = anyio.CancelScope(shield=True)\n",
      "                         ^^^^^^^^^^^^^^^^^^^^^^^^^^^^^^\n",
      "  File \"/Users/mokkastudios/opt/anaconda3/envs/estyl/lib/python3.11/site-packages/anyio/_core/_tasks.py\", line 31, in __new__\n",
      "  File \"/Users/mokkastudios/opt/anaconda3/envs/estyl/lib/python3.11/site-packages/anyio/_core/_eventloop.py\", line 164, in get_async_backend\n",
      "  File \"/Users/mokkastudios/opt/anaconda3/envs/estyl/lib/python3.11/importlib/__init__.py\", line 126, in import_module\n",
      "    return _bootstrap._gcd_import(name[level:], package, level)\n",
      "           ^^^^^^^^^^^^^^^^^^^^^^^^^^^^^^^^^^^^^^^^^^^^^^^^^^^^\n",
      "  File \"<frozen importlib._bootstrap>\", line 1204, in _gcd_import\n",
      "  File \"<frozen importlib._bootstrap>\", line 1176, in _find_and_load\n",
      "  File \"<frozen importlib._bootstrap>\", line 1147, in _find_and_load_unlocked\n",
      "  File \"<frozen importlib._bootstrap>\", line 690, in _load_unlocked\n",
      "  File \"<frozen importlib._bootstrap_external>\", line 940, in exec_module\n",
      "  File \"<frozen importlib._bootstrap>\", line 241, in _call_with_frames_removed\n",
      "  File \"/Users/mokkastudios/opt/anaconda3/envs/estyl/lib/python3.11/site-packages/anyio/_backends/_asyncio.py\", line 61, in <module>\n",
      "    from .._core._exceptions import ExceptionGroup as BaseExceptionGroup\n",
      "ImportError: cannot import name 'ExceptionGroup' from 'anyio._core._exceptions' (/Users/mokkastudios/opt/anaconda3/envs/estyl/lib/python3.11/site-packages/anyio/_core/_exceptions.py)\n"
     ]
    }
   ],
   "source": [
    "chat_graph = create_graph()\n",
    "display(Image(chat_graph.get_graph().draw_mermaid_png()))"
   ]
  },
  {
   "cell_type": "code",
   "execution_count": 29,
   "id": "29acc541-d726-4b75-84d1-a215845fe88a",
   "metadata": {},
   "outputs": [
    {
     "name": "stdout",
     "output_type": "stream",
     "text": [
      "---ROUTE QUESTION---\n",
      "---ROUTE QUESTION TO RAG---\n",
      "---RETRIEVE---\n",
      "documents 2:  [Document(id='f5eabe7f-9616-4b2b-b18a-2c7d3b97f6d0', metadata={'source': 'pdfs/ESTYL _ STYLE GUIDE (pdf).pdf', 'page': 2}, page_content=\"POSHPosh Style typically refers to a sophisticated, elegant, and polished fashion aesthetic associated with luxury and class. It's often aligned with upper-class sensibilities and chic, timeless design elements. The posh look is characterized by attention to detail, quality fabrics, a neutral or muted color palette, and an understated sense of opulence.   Classic, well-tailored dresses are the hallmark of posh style. Think elegant sheath dresses, midi or tea-length dresses, and A-line silhouettes in luxurious fabrics like silk, satin, or cashmere. Timeless designs in neutral shades like black, white, navy, or cream dominate, though bold jewel tones (emerald, burgundy, royal blue) are also seen. Minimalist detailing such as clean lines, structured silhouettes, and subtle embellishments like pearls or lace are common.\"), Document(id='dd36c3e6-dbd6-4abf-ac7a-31ea35e742ac', metadata={'source': 'pdfs/ESTYL _ STYLE GUIDE (pdf).pdf', 'page': 3}, page_content='•Tops & Bottoms: Blouses made from delicate fabrics like silk, satin, or chiffon paired with tailored trousers or pencil skirts are quintessential for a posh look. Crisp button-down shirts, often in white or pastels, give off a sophisticated vibe, especially when tucked into high-waisted, wide-leg pants. Monochromatic outfits or minimalistic prints like houndstooth, pinstripes, or subtle florals add to the elegance. •Suits & Tailoring: Structured blazers, often with sharp tailoring, are key to posh style. A well-fitted suit in a luxurious fabric like wool or tweed elevates the look for more formal settings. Suits in neutral tones or bold colors like navy or emerald green give off an aura of power and refinement. •Heels: Pointed-toe stilettos or sleek pumps in leather or suede are a classic choice. For a more modern twist, kitten heels or block-heeled mules are also suitable for posh outfits. Colors like nude, black, or soft pastels keep the look sophisticated. •Flats: Ballet flats or'), Document(id='108fd575-3ace-44e8-a9ab-bb36cc1e77fd', metadata={'source': 'pdfs/ESTYL _ STYLE GUIDE (pdf).pdf', 'page': 3}, page_content='choice. For a more modern twist, kitten heels or block-heeled mules are also suitable for posh outfits. Colors like nude, black, or soft pastels keep the look sophisticated. •Flats: Ballet flats or loafers in high-quality materials (leather, velvet) are ideal for those who want a chic yet comfortable option. Flats with subtle embellishments like gold buckles or metallic accents add a touch of luxury. •Boots: In cooler weather, knee-high boots in soft leather or suede complement posh outfits, especially when paired with skirts or tailored trousers. Classic colors like black, taupe, or tan maintain the refined look. •Jewelry: Posh style favors understated yet luxurious jewelry. Pearl earrings, delicate gold necklaces, and tennis bracelets made from diamonds or fine gems are typical. Avoid oversized or overly flashy pieces in favor of subtle elegance. •Bags: Structured handbags or clutches in leather or designer styles are preferred. Iconic brands like Chanel, Hermès, or Gucci are often'), Document(id='e37708cb-7134-44a9-95ea-1650e161cd80', metadata={'source': 'pdfs/ESTYL _ STYLE GUIDE (pdf).pdf', 'page': 4}, page_content=\"•Dress Shoes: Polished leather Oxfords or brogues are a staple of posh men's fashion. Shoes in black or brown are versatile and complement any formal outfit. For a more contemporary twist, loafers in suede or velvet add a touch of luxury. •Casual Shoes: For less formal settings, leather or suede loafers, Chelsea boots, or designer sneakers (in minimalist styles) can add a touch of sophistication while maintaining comfort. •Watches: A high-quality timepiece is a defining accessory for posh style. Classic brands like Rolex, Patek Philippe, or Cartier are favored. Choose a sleek design with a leather or metal band that exudes timeless elegance. •Ties & Pocket Squares: Silk ties in classic patterns (stripes, dots, or solids) add polish to any suit. Pocket squares in complementary colors or patterns provide a dash of personality. •Belts: Leather belts with understated metal buckles, in black or brown, are essential for pulling together a refined outfit.\")]\n",
      "'Finished running: retrieve:'\n",
      "---CHECK DOCUMENT RELEVANCE TO QUESTION---\n",
      "---GRADE: DOCUMENT RELEVANT---\n",
      "---GRADE: DOCUMENT RELEVANT---\n",
      "---GRADE: DOCUMENT RELEVANT---\n",
      "---GRADE: DOCUMENT RELEVANT---\n",
      "---ASSESS GRADED DOCUMENTS---\n",
      "---DECISION: GENERATE---\n",
      "'Finished running: grade_documents:'\n",
      "---GENERATE---\n",
      "---CHECK HALLUCINATIONS---\n",
      "---DECISION: GENERATION IS GROUNDED IN DOCUMENTS---\n",
      "---GRADE GENERATION vs QUESTION---\n",
      "---DECISION: GENERATION ADDRESSES QUESTION---\n",
      "'Finished running: generate:'\n"
     ]
    },
    {
     "data": {
      "text/plain": [
       "\"Posh style refers to a sophisticated, elegant, and polished fashion aesthetic associated with luxury and class. It's characterized by attention to detail, quality fabrics, and neutral or muted color palettes. Posh style includes classic, well-tailored dresses, structured blazers, and polished leather accessories.\""
      ]
     },
     "execution_count": 29,
     "metadata": {},
     "output_type": "execute_result"
    }
   ],
   "source": [
    "from pprint import pprint\n",
    "inputs = {\"question\": \"What is posh style\"}\n",
    "config = {\"configurable\": {\"thread_id\": \"1\"}}\n",
    "for output in chat_graph.stream(inputs, config):\n",
    "    for key, value in output.items():\n",
    "        pprint(f\"Finished running: {key}:\")\n",
    "value[\"generation\"]"
   ]
  },
  {
   "cell_type": "code",
   "execution_count": 38,
   "id": "af6e73b0",
   "metadata": {},
   "outputs": [
    {
     "name": "stdout",
     "output_type": "stream",
     "text": [
      "---ROUTE QUESTION---\n",
      "---ROUTE QUESTION TO RAG---\n",
      "---RETRIEVE---\n",
      "documents 2:  [Document(id='f5eabe7f-9616-4b2b-b18a-2c7d3b97f6d0', metadata={'source': 'pdfs/ESTYL _ STYLE GUIDE (pdf).pdf', 'page': 2}, page_content=\"POSHPosh Style typically refers to a sophisticated, elegant, and polished fashion aesthetic associated with luxury and class. It's often aligned with upper-class sensibilities and chic, timeless design elements. The posh look is characterized by attention to detail, quality fabrics, a neutral or muted color palette, and an understated sense of opulence.   Classic, well-tailored dresses are the hallmark of posh style. Think elegant sheath dresses, midi or tea-length dresses, and A-line silhouettes in luxurious fabrics like silk, satin, or cashmere. Timeless designs in neutral shades like black, white, navy, or cream dominate, though bold jewel tones (emerald, burgundy, royal blue) are also seen. Minimalist detailing such as clean lines, structured silhouettes, and subtle embellishments like pearls or lace are common.\"), Document(id='dd36c3e6-dbd6-4abf-ac7a-31ea35e742ac', metadata={'source': 'pdfs/ESTYL _ STYLE GUIDE (pdf).pdf', 'page': 3}, page_content='•Tops & Bottoms: Blouses made from delicate fabrics like silk, satin, or chiffon paired with tailored trousers or pencil skirts are quintessential for a posh look. Crisp button-down shirts, often in white or pastels, give off a sophisticated vibe, especially when tucked into high-waisted, wide-leg pants. Monochromatic outfits or minimalistic prints like houndstooth, pinstripes, or subtle florals add to the elegance. •Suits & Tailoring: Structured blazers, often with sharp tailoring, are key to posh style. A well-fitted suit in a luxurious fabric like wool or tweed elevates the look for more formal settings. Suits in neutral tones or bold colors like navy or emerald green give off an aura of power and refinement. •Heels: Pointed-toe stilettos or sleek pumps in leather or suede are a classic choice. For a more modern twist, kitten heels or block-heeled mules are also suitable for posh outfits. Colors like nude, black, or soft pastels keep the look sophisticated. •Flats: Ballet flats or'), Document(id='108fd575-3ace-44e8-a9ab-bb36cc1e77fd', metadata={'source': 'pdfs/ESTYL _ STYLE GUIDE (pdf).pdf', 'page': 3}, page_content='choice. For a more modern twist, kitten heels or block-heeled mules are also suitable for posh outfits. Colors like nude, black, or soft pastels keep the look sophisticated. •Flats: Ballet flats or loafers in high-quality materials (leather, velvet) are ideal for those who want a chic yet comfortable option. Flats with subtle embellishments like gold buckles or metallic accents add a touch of luxury. •Boots: In cooler weather, knee-high boots in soft leather or suede complement posh outfits, especially when paired with skirts or tailored trousers. Classic colors like black, taupe, or tan maintain the refined look. •Jewelry: Posh style favors understated yet luxurious jewelry. Pearl earrings, delicate gold necklaces, and tennis bracelets made from diamonds or fine gems are typical. Avoid oversized or overly flashy pieces in favor of subtle elegance. •Bags: Structured handbags or clutches in leather or designer styles are preferred. Iconic brands like Chanel, Hermès, or Gucci are often'), Document(id='e37708cb-7134-44a9-95ea-1650e161cd80', metadata={'source': 'pdfs/ESTYL _ STYLE GUIDE (pdf).pdf', 'page': 4}, page_content=\"•Dress Shoes: Polished leather Oxfords or brogues are a staple of posh men's fashion. Shoes in black or brown are versatile and complement any formal outfit. For a more contemporary twist, loafers in suede or velvet add a touch of luxury. •Casual Shoes: For less formal settings, leather or suede loafers, Chelsea boots, or designer sneakers (in minimalist styles) can add a touch of sophistication while maintaining comfort. •Watches: A high-quality timepiece is a defining accessory for posh style. Classic brands like Rolex, Patek Philippe, or Cartier are favored. Choose a sleek design with a leather or metal band that exudes timeless elegance. •Ties & Pocket Squares: Silk ties in classic patterns (stripes, dots, or solids) add polish to any suit. Pocket squares in complementary colors or patterns provide a dash of personality. •Belts: Leather belts with understated metal buckles, in black or brown, are essential for pulling together a refined outfit.\")]\n",
      "'Finished running: retrieve:'\n",
      "---CHECK DOCUMENT RELEVANCE TO QUESTION---\n",
      "---GRADE: DOCUMENT RELEVANT---\n",
      "---GRADE: DOCUMENT RELEVANT---\n",
      "---GRADE: DOCUMENT RELEVANT---\n",
      "---GRADE: DOCUMENT RELEVANT---\n",
      "---ASSESS GRADED DOCUMENTS---\n",
      "---DECISION: GENERATE---\n",
      "'Finished running: grade_documents:'\n",
      "---GENERATE---\n",
      "---CHECK HALLUCINATIONS---\n",
      "---DECISION: GENERATION IS GROUNDED IN DOCUMENTS---\n",
      "---GRADE GENERATION vs QUESTION---\n",
      "---DECISION: GENERATION ADDRESSES QUESTION---\n",
      "'Finished running: generate:'\n"
     ]
    },
    {
     "data": {
      "text/plain": [
       "'Posh style refers to a sophisticated, elegant, and polished fashion aesthetic associated with luxury and class, often aligned with upper-class sensibilities. It involves attention to detail, quality fabrics, a neutral or muted color palette, and an understated sense of opulence. Classic, well-tailored dresses and structured blazers are key elements of posh style.'"
      ]
     },
     "execution_count": 38,
     "metadata": {},
     "output_type": "execute_result"
    }
   ],
   "source": [
    "from pprint import pprint\n",
    "inputs = {\"question\": \"What is posh style\"}\n",
    "config = {\"configurable\": {\"thread_id\": \"1\"}}\n",
    "events = chat_graph.stream(inputs, config)\n",
    "for output in events:\n",
    "    for key, value in output.items():\n",
    "        pprint(f\"Finished running: {key}:\")\n",
    "value[\"generation\"]"
   ]
  },
  {
   "cell_type": "code",
   "execution_count": 39,
   "id": "0431b826",
   "metadata": {},
   "outputs": [
    {
     "data": {
      "text/plain": [
       "<generator object Pregel.stream at 0x11fe8fde0>"
      ]
     },
     "execution_count": 39,
     "metadata": {},
     "output_type": "execute_result"
    }
   ],
   "source": [
    "events"
   ]
  },
  {
   "cell_type": "code",
   "execution_count": 30,
   "id": "82883f67",
   "metadata": {},
   "outputs": [
    {
     "data": {
      "text/plain": [
       "\"Posh style refers to a sophisticated, elegant, and polished fashion aesthetic associated with luxury and class. It's characterized by attention to detail, quality fabrics, and neutral or muted color palettes. Posh style includes classic, well-tailored dresses, structured blazers, and polished leather accessories.\""
      ]
     },
     "execution_count": 30,
     "metadata": {},
     "output_type": "execute_result"
    }
   ],
   "source": [
    "value[\"generation\"]"
   ]
  },
  {
   "cell_type": "code",
   "execution_count": null,
   "id": "2e8a7537",
   "metadata": {},
   "outputs": [],
   "source": [
    "inputs = {\n",
    "    \"question\": \"hello\",\n",
    "    \"llm\": llm,  # Pass LLM # Pass retriever\n",
    "}\n",
    "\n",
    "config = {\"configurable\": {\"thread_id\": \"1\"}}\n",
    "\n",
    "# Run the graph with the initialized state\n",
    "for output in chat_graph.stream(inputs, config):\n",
    "    print(output)"
   ]
  },
  {
   "cell_type": "code",
   "execution_count": 16,
   "id": "67c1e693",
   "metadata": {},
   "outputs": [
    {
     "data": {
      "text/plain": [
       "['InputType',\n",
       " 'OutputType',\n",
       " '__abstractmethods__',\n",
       " '__annotations__',\n",
       " '__class__',\n",
       " '__class_getitem__',\n",
       " '__delattr__',\n",
       " '__dict__',\n",
       " '__dir__',\n",
       " '__doc__',\n",
       " '__eq__',\n",
       " '__format__',\n",
       " '__ge__',\n",
       " '__getattribute__',\n",
       " '__getstate__',\n",
       " '__gt__',\n",
       " '__hash__',\n",
       " '__init__',\n",
       " '__init_subclass__',\n",
       " '__le__',\n",
       " '__lt__',\n",
       " '__module__',\n",
       " '__ne__',\n",
       " '__new__',\n",
       " '__or__',\n",
       " '__orig_bases__',\n",
       " '__parameters__',\n",
       " '__reduce__',\n",
       " '__reduce_ex__',\n",
       " '__repr__',\n",
       " '__ror__',\n",
       " '__setattr__',\n",
       " '__sizeof__',\n",
       " '__slots__',\n",
       " '__str__',\n",
       " '__subclasshook__',\n",
       " '__weakref__',\n",
       " '_abatch_with_config',\n",
       " '_abc_impl',\n",
       " '_acall_with_config',\n",
       " '_aprepare_state_snapshot',\n",
       " '_atransform_stream_with_config',\n",
       " '_batch_with_config',\n",
       " '_call_with_config',\n",
       " '_defaults',\n",
       " '_is_protocol',\n",
       " '_prepare_state_snapshot',\n",
       " '_transform_stream_with_config',\n",
       " 'abatch',\n",
       " 'abatch_as_completed',\n",
       " 'aget_state',\n",
       " 'aget_state_history',\n",
       " 'aget_subgraphs',\n",
       " 'ainvoke',\n",
       " 'as_tool',\n",
       " 'assign',\n",
       " 'astream',\n",
       " 'astream_events',\n",
       " 'astream_log',\n",
       " 'atransform',\n",
       " 'attach_branch',\n",
       " 'attach_edge',\n",
       " 'attach_node',\n",
       " 'aupdate_state',\n",
       " 'batch',\n",
       " 'batch_as_completed',\n",
       " 'bind',\n",
       " 'builder',\n",
       " 'channels',\n",
       " 'checkpointer',\n",
       " 'config',\n",
       " 'config_schema',\n",
       " 'config_specs',\n",
       " 'config_type',\n",
       " 'copy',\n",
       " 'debug',\n",
       " 'get_config_jsonschema',\n",
       " 'get_graph',\n",
       " 'get_input_jsonschema',\n",
       " 'get_input_schema',\n",
       " 'get_name',\n",
       " 'get_output_jsonschema',\n",
       " 'get_output_schema',\n",
       " 'get_prompts',\n",
       " 'get_state',\n",
       " 'get_state_history',\n",
       " 'get_subgraphs',\n",
       " 'input_channels',\n",
       " 'input_schema',\n",
       " 'interrupt_after_nodes',\n",
       " 'interrupt_before_nodes',\n",
       " 'invoke',\n",
       " 'map',\n",
       " 'name',\n",
       " 'nodes',\n",
       " 'output_channels',\n",
       " 'output_schema',\n",
       " 'pick',\n",
       " 'pipe',\n",
       " 'retry_policy',\n",
       " 'step_timeout',\n",
       " 'store',\n",
       " 'stream',\n",
       " 'stream_channels',\n",
       " 'stream_channels_asis',\n",
       " 'stream_channels_list',\n",
       " 'stream_mode',\n",
       " 'transform',\n",
       " 'update_state',\n",
       " 'validate',\n",
       " 'with_alisteners',\n",
       " 'with_config',\n",
       " 'with_fallbacks',\n",
       " 'with_listeners',\n",
       " 'with_retry',\n",
       " 'with_types']"
      ]
     },
     "execution_count": 16,
     "metadata": {},
     "output_type": "execute_result"
    }
   ],
   "source": [
    "dir(chat_graph)"
   ]
  },
  {
   "cell_type": "code",
   "execution_count": 19,
   "id": "8770a673",
   "metadata": {},
   "outputs": [
    {
     "data": {
      "text/plain": [
       "['__annotations__',\n",
       " '__class__',\n",
       " '__delattr__',\n",
       " '__dict__',\n",
       " '__dir__',\n",
       " '__doc__',\n",
       " '__eq__',\n",
       " '__format__',\n",
       " '__ge__',\n",
       " '__getattribute__',\n",
       " '__getstate__',\n",
       " '__gt__',\n",
       " '__hash__',\n",
       " '__init__',\n",
       " '__init_subclass__',\n",
       " '__le__',\n",
       " '__lt__',\n",
       " '__module__',\n",
       " '__ne__',\n",
       " '__new__',\n",
       " '__reduce__',\n",
       " '__reduce_ex__',\n",
       " '__repr__',\n",
       " '__setattr__',\n",
       " '__sizeof__',\n",
       " '__str__',\n",
       " '__subclasshook__',\n",
       " '__weakref__',\n",
       " '_add_schema',\n",
       " '_all_edges',\n",
       " 'add_conditional_edges',\n",
       " 'add_edge',\n",
       " 'add_node',\n",
       " 'branches',\n",
       " 'channels',\n",
       " 'compile',\n",
       " 'compiled',\n",
       " 'config_schema',\n",
       " 'edges',\n",
       " 'input',\n",
       " 'managed',\n",
       " 'nodes',\n",
       " 'output',\n",
       " 'schema',\n",
       " 'schemas',\n",
       " 'set_conditional_entry_point',\n",
       " 'set_entry_point',\n",
       " 'set_finish_point',\n",
       " 'support_multiple_edges',\n",
       " 'validate',\n",
       " 'waiting_edges']"
      ]
     },
     "execution_count": 19,
     "metadata": {},
     "output_type": "execute_result"
    }
   ],
   "source": [
    "dir(workflow)"
   ]
  },
  {
   "cell_type": "code",
   "execution_count": 14,
   "id": "397c389a",
   "metadata": {},
   "outputs": [
    {
     "data": {
      "text/plain": [
       "<bound method CompiledGraph.get_graph of <langgraph.graph.state.CompiledStateGraph object at 0x108fa2350>>"
      ]
     },
     "execution_count": 14,
     "metadata": {},
     "output_type": "execute_result"
    }
   ],
   "source": [
    "chat_graph.get_graph"
   ]
  },
  {
   "cell_type": "code",
   "execution_count": 28,
   "id": "629a6cec",
   "metadata": {},
   "outputs": [
    {
     "data": {
      "text/plain": [
       "langgraph.graph.state.StateGraph"
      ]
     },
     "execution_count": 28,
     "metadata": {},
     "output_type": "execute_result"
    }
   ],
   "source": [
    "type(workflow)"
   ]
  },
  {
   "cell_type": "code",
   "execution_count": 29,
   "id": "13c3e281",
   "metadata": {},
   "outputs": [],
   "source": [
    "from langgraph.graph import StateGraph"
   ]
  },
  {
   "cell_type": "code",
   "execution_count": 30,
   "id": "17998146",
   "metadata": {},
   "outputs": [],
   "source": [
    "StateGraph??"
   ]
  },
  {
   "cell_type": "code",
   "execution_count": 33,
   "id": "772b1caf",
   "metadata": {},
   "outputs": [
    {
     "data": {
      "text/plain": [
       "['InputType',\n",
       " 'OutputType',\n",
       " '__abstractmethods__',\n",
       " '__annotations__',\n",
       " '__class__',\n",
       " '__class_getitem__',\n",
       " '__delattr__',\n",
       " '__dict__',\n",
       " '__dir__',\n",
       " '__doc__',\n",
       " '__eq__',\n",
       " '__format__',\n",
       " '__ge__',\n",
       " '__getattribute__',\n",
       " '__getstate__',\n",
       " '__gt__',\n",
       " '__hash__',\n",
       " '__init__',\n",
       " '__init_subclass__',\n",
       " '__le__',\n",
       " '__lt__',\n",
       " '__module__',\n",
       " '__ne__',\n",
       " '__new__',\n",
       " '__or__',\n",
       " '__orig_bases__',\n",
       " '__parameters__',\n",
       " '__reduce__',\n",
       " '__reduce_ex__',\n",
       " '__repr__',\n",
       " '__ror__',\n",
       " '__setattr__',\n",
       " '__sizeof__',\n",
       " '__slots__',\n",
       " '__str__',\n",
       " '__subclasshook__',\n",
       " '__weakref__',\n",
       " '_abatch_with_config',\n",
       " '_abc_impl',\n",
       " '_acall_with_config',\n",
       " '_aprepare_state_snapshot',\n",
       " '_atransform_stream_with_config',\n",
       " '_batch_with_config',\n",
       " '_call_with_config',\n",
       " '_defaults',\n",
       " '_is_protocol',\n",
       " '_prepare_state_snapshot',\n",
       " '_transform_stream_with_config',\n",
       " 'abatch',\n",
       " 'abatch_as_completed',\n",
       " 'aget_state',\n",
       " 'aget_state_history',\n",
       " 'aget_subgraphs',\n",
       " 'ainvoke',\n",
       " 'as_tool',\n",
       " 'assign',\n",
       " 'astream',\n",
       " 'astream_events',\n",
       " 'astream_log',\n",
       " 'atransform',\n",
       " 'attach_branch',\n",
       " 'attach_edge',\n",
       " 'attach_node',\n",
       " 'aupdate_state',\n",
       " 'batch',\n",
       " 'batch_as_completed',\n",
       " 'bind',\n",
       " 'builder',\n",
       " 'channels',\n",
       " 'checkpointer',\n",
       " 'config',\n",
       " 'config_schema',\n",
       " 'config_specs',\n",
       " 'config_type',\n",
       " 'copy',\n",
       " 'debug',\n",
       " 'get_config_jsonschema',\n",
       " 'get_graph',\n",
       " 'get_input_jsonschema',\n",
       " 'get_input_schema',\n",
       " 'get_name',\n",
       " 'get_output_jsonschema',\n",
       " 'get_output_schema',\n",
       " 'get_prompts',\n",
       " 'get_state',\n",
       " 'get_state_history',\n",
       " 'get_subgraphs',\n",
       " 'input_channels',\n",
       " 'input_schema',\n",
       " 'interrupt_after_nodes',\n",
       " 'interrupt_before_nodes',\n",
       " 'invoke',\n",
       " 'map',\n",
       " 'name',\n",
       " 'nodes',\n",
       " 'output_channels',\n",
       " 'output_schema',\n",
       " 'pick',\n",
       " 'pipe',\n",
       " 'retry_policy',\n",
       " 'step_timeout',\n",
       " 'store',\n",
       " 'stream',\n",
       " 'stream_channels',\n",
       " 'stream_channels_asis',\n",
       " 'stream_channels_list',\n",
       " 'stream_mode',\n",
       " 'transform',\n",
       " 'update_state',\n",
       " 'validate',\n",
       " 'with_alisteners',\n",
       " 'with_config',\n",
       " 'with_fallbacks',\n",
       " 'with_listeners',\n",
       " 'with_retry',\n",
       " 'with_types']"
      ]
     },
     "execution_count": 33,
     "metadata": {},
     "output_type": "execute_result"
    }
   ],
   "source": [
    "dir(chat_graph)"
   ]
  },
  {
   "cell_type": "code",
   "execution_count": 39,
   "id": "86a6d450",
   "metadata": {},
   "outputs": [
    {
     "ename": "AttributeError",
     "evalue": "'LastValue' object has no attribute 'value'",
     "output_type": "error",
     "traceback": [
      "\u001b[0;31m---------------------------------------------------------------------------\u001b[0m",
      "\u001b[0;31mAttributeError\u001b[0m                            Traceback (most recent call last)",
      "Cell \u001b[0;32mIn[39], line 1\u001b[0m\n\u001b[0;32m----> 1\u001b[0m chat_graph\u001b[38;5;241m.\u001b[39mchannels[\u001b[38;5;124m\"\u001b[39m\u001b[38;5;124mdocuments\u001b[39m\u001b[38;5;124m\"\u001b[39m]\u001b[38;5;241m.\u001b[39mvalue\n",
      "\u001b[0;31mAttributeError\u001b[0m: 'LastValue' object has no attribute 'value'"
     ]
    }
   ],
   "source": [
    "chat_graph.channels[\"documents\"]"
   ]
  },
  {
   "cell_type": "code",
   "execution_count": null,
   "id": "7ca16d9b",
   "metadata": {},
   "outputs": [],
   "source": []
  }
 ],
 "metadata": {
  "kernelspec": {
   "display_name": "estyl",
   "language": "python",
   "name": "estyl"
  },
  "language_info": {
   "codemirror_mode": {
    "name": "ipython",
    "version": 3
   },
   "file_extension": ".py",
   "mimetype": "text/x-python",
   "name": "python",
   "nbconvert_exporter": "python",
   "pygments_lexer": "ipython3",
   "version": "3.11.9"
  }
 },
 "nbformat": 4,
 "nbformat_minor": 5
}
