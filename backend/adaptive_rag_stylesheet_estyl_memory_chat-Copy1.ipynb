{
 "cells": [
  {
   "cell_type": "markdown",
   "id": "a85501ca-eb89-4795-aeab-cdab050ead6b",
   "metadata": {},
   "source": [
    "# Environment  "
   ]
  },
  {
   "cell_type": "code",
   "execution_count": 1,
   "id": "2f4a6ae8-d381-4d4a-8850-4b2a8fd99277",
   "metadata": {},
   "outputs": [],
   "source": [
    "# %%capture --no-stderr\n",
    "# %pip install --quiet -U langchain langchain_community tiktoken langchain-mistralai scikit-learn langgraph tavily-python bs4"
   ]
  },
  {
   "cell_type": "code",
   "execution_count": 2,
   "id": "3e9453a7",
   "metadata": {},
   "outputs": [],
   "source": [
    "# !pip install scikit-learn"
   ]
  },
  {
   "cell_type": "code",
   "execution_count": 1,
   "id": "6d2c774b-9493-4979-afe6-aebbcf01ff3e",
   "metadata": {},
   "outputs": [],
   "source": [
    "import os, getpass\n",
    "\n",
    "def _set_env(var: str):\n",
    "    if not os.environ.get(var):\n",
    "        os.environ[var] = getpass.getpass(f\"{var}: \")\n",
    "\n",
    "# _set_env(\"TAVILY_API_KEY\")\n",
    "os.environ['TOKENIZERS_PARALLELISM'] = 'true'"
   ]
  },
  {
   "cell_type": "code",
   "execution_count": 2,
   "id": "08edba00-988a-478b-96fc-ae0199cbef49",
   "metadata": {},
   "outputs": [],
   "source": [
    "# _set_env(\"LANGCHAIN_API_KEY\")\n",
    "os.environ['LANGCHAIN_TRACING_V2'] = 'true'\n",
    "os.environ['LANGCHAIN_ENDPOINT'] = 'https://api.smith.langchain.com'\n",
    "os.environ['LANGCHAIN_API_KEY'] = \"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\"\n",
    "os.environ[\"LANGCHAIN_PROJECT\"] = \"estyl\"\n",
    "os.environ['TAVILY_API_KEY'] = \"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\"\n",
    "os.environ[\"OPENAI_API_KEY\"] = \"sk-svcacct-vZG2VCHIjZUn7fl3EmK51F77F3aPcLnrVf7Bd0-Z0DUzt9Zv9mfomR09b_7gvT3BlbkFJPnOvUAPfOk75znoM8NPQDGS8KAEhSuj82s5I5jmjpvLo7-13URd9cnDBHk_wgA\""
   ]
  },
  {
   "cell_type": "markdown",
   "id": "9ac1c2cd-81fb-40eb-8ba1-e9197800cba6",
   "metadata": {},
   "source": [
    "## Index"
   ]
  },
  {
   "cell_type": "code",
   "execution_count": 3,
   "id": "b224e5ba-50ca-495a-a7fa-0f75a080e03c",
   "metadata": {},
   "outputs": [
    {
     "name": "stderr",
     "output_type": "stream",
     "text": [
      "USER_AGENT environment variable not set, consider setting it to identify your requests.\n"
     ]
    }
   ],
   "source": [
    "from langchain.text_splitter import RecursiveCharacterTextSplitter\n",
    "from langchain_community.document_loaders import WebBaseLoader\n",
    "from langchain_community.vectorstores import SKLearnVectorStore\n",
    "from langchain.embeddings.openai import OpenAIEmbeddings\n",
    "from langchain_community.document_loaders import PyPDFLoader\n",
    "\n",
    "from langchain_core.vectorstores import InMemoryVectorStore\n",
    "from langchain_openai import OpenAIEmbeddings\n",
    "from langchain_text_splitters import RecursiveCharacterTextSplitter\n",
    "import sys\n",
    "sys.path.append('chains')\n",
    "sys.path.append('tools')\n",
    "sys.path.append('graph')\n",
    "from chains import *\n",
    "from tools import *\n",
    "from graph import *"
   ]
  },
  {
   "cell_type": "markdown",
   "id": "0f52b427-750c-40f8-8893-e9caab3afd8d",
   "metadata": {},
   "source": [
    "## LLMs"
   ]
  },
  {
   "cell_type": "code",
   "execution_count": 4,
   "id": "b6d7f5ae-aac9-4f08-a264-0c3c4495c50b",
   "metadata": {},
   "outputs": [
    {
     "name": "stdout",
     "output_type": "stream",
     "text": [
      "115\n"
     ]
    }
   ],
   "source": [
    "### Set LLM\n",
    "from langchain_openai import ChatOpenAI # from langchain_mistralai import ChatMistralAI\n",
    "mistral_model = \"mistral-large-latest\" # \"open-mixtral-8x22b\" \n",
    "llm = ChatOpenAI()\n",
    "\n",
    "loader = PyPDFLoader('pdfs/ESTYL _ STYLE GUIDE (pdf).pdf')\n",
    "\n",
    "docs = loader.load()\n",
    "\n",
    "print(len(docs))\n",
    "\n",
    "text_splitter = RecursiveCharacterTextSplitter(chunk_size=1000, chunk_overlap=200)\n",
    "splits = text_splitter.split_documents(docs)\n",
    "vectorstore = InMemoryVectorStore.from_documents(\n",
    "    documents=splits, embedding=OpenAIEmbeddings()\n",
    ")\n",
    "\n",
    "retriever = vectorstore.as_retriever()"
   ]
  },
  {
   "cell_type": "code",
   "execution_count": 5,
   "id": "4dec9d98-f3dc-4b7f-abc0-9d01c754f2be",
   "metadata": {},
   "outputs": [
    {
     "name": "stdout",
     "output_type": "stream",
     "text": [
      "datasource='vectorstore'\n",
      "datasource='generate'\n"
     ]
    }
   ],
   "source": [
    "import chains\n",
    "\n",
    "### Router\n",
    "\n",
    "# Chain the prompt and the structured LLM output\n",
    "router_chain = get_router_chain(llm)\n",
    "\n",
    "# Test the router with example questions\n",
    "question_1 = \"How to dress up for a wedding?\"\n",
    "question_2 = \"What are the types of agent memory?\"\n",
    "\n",
    "# Invoke the router chain for both questions\n",
    "result_1 = router_chain.invoke({\"question\": question_1})\n",
    "result_2 = router_chain.invoke({\"question\": question_2})\n",
    "\n",
    "# Print the results\n",
    "print(result_1)\n",
    "print(result_2)"
   ]
  },
  {
   "cell_type": "code",
   "execution_count": 8,
   "id": "856801cb-f42a-44e7-956f-47845e3664ca",
   "metadata": {},
   "outputs": [
    {
     "name": "stdout",
     "output_type": "stream",
     "text": [
      "binary_score='yes'\n"
     ]
    }
   ],
   "source": [
    "### Retrieval Grader \n",
    "\n",
    "retrieval_grader_chain = get_retrieval_grader_chain(llm)\n",
    "question = \"What is posh style?\"\n",
    "docs = retriever.invoke(question)\n",
    "doc_txt = docs[1].page_content\n",
    "print(retrieval_grader_chain.invoke({\"question\": question, \"document\": doc_txt}))"
   ]
  },
  {
   "cell_type": "code",
   "execution_count": 9,
   "id": "2272333e-50b2-42ab-b472-e1055a3b94a8",
   "metadata": {},
   "outputs": [
    {
     "ename": "ValueError",
     "evalue": "Invalid input type <class 'langchain_core.messages.ai.AIMessage'>. Must be a PromptValue, str, or list of BaseMessages.",
     "output_type": "error",
     "traceback": [
      "\u001b[0;31m---------------------------------------------------------------------------\u001b[0m",
      "\u001b[0;31mValueError\u001b[0m                                Traceback (most recent call last)",
      "Cell \u001b[0;32mIn[9], line 6\u001b[0m\n\u001b[1;32m      3\u001b[0m rag_chain \u001b[38;5;241m=\u001b[39m get_generate_chain(llm)\n\u001b[1;32m      5\u001b[0m \u001b[38;5;66;03m# Run\u001b[39;00m\n\u001b[0;32m----> 6\u001b[0m generation \u001b[38;5;241m=\u001b[39m rag_chain\u001b[38;5;241m.\u001b[39minvoke({\u001b[38;5;124m\"\u001b[39m\u001b[38;5;124mcontext\u001b[39m\u001b[38;5;124m\"\u001b[39m: docs, \u001b[38;5;124m\"\u001b[39m\u001b[38;5;124mquestion\u001b[39m\u001b[38;5;124m\"\u001b[39m: \u001b[38;5;124m\"\u001b[39m\u001b[38;5;124mWhat is posh style?\u001b[39m\u001b[38;5;124m\"\u001b[39m, \u001b[38;5;124m\"\u001b[39m\u001b[38;5;124mmessages\u001b[39m\u001b[38;5;124m\"\u001b[39m: []})\n\u001b[1;32m      7\u001b[0m \u001b[38;5;28mprint\u001b[39m(generation)\n",
      "File \u001b[0;32m~/opt/anaconda3/envs/estyl/lib/python3.11/site-packages/langchain_core/runnables/base.py:3024\u001b[0m, in \u001b[0;36mRunnableSequence.invoke\u001b[0;34m(self, input, config, **kwargs)\u001b[0m\n\u001b[1;32m   3022\u001b[0m             \u001b[38;5;28minput\u001b[39m \u001b[38;5;241m=\u001b[39m context\u001b[38;5;241m.\u001b[39mrun(step\u001b[38;5;241m.\u001b[39minvoke, \u001b[38;5;28minput\u001b[39m, config, \u001b[38;5;241m*\u001b[39m\u001b[38;5;241m*\u001b[39mkwargs)\n\u001b[1;32m   3023\u001b[0m         \u001b[38;5;28;01melse\u001b[39;00m:\n\u001b[0;32m-> 3024\u001b[0m             \u001b[38;5;28minput\u001b[39m \u001b[38;5;241m=\u001b[39m context\u001b[38;5;241m.\u001b[39mrun(step\u001b[38;5;241m.\u001b[39minvoke, \u001b[38;5;28minput\u001b[39m, config)\n\u001b[1;32m   3025\u001b[0m \u001b[38;5;66;03m# finish the root run\u001b[39;00m\n\u001b[1;32m   3026\u001b[0m \u001b[38;5;28;01mexcept\u001b[39;00m \u001b[38;5;167;01mBaseException\u001b[39;00m \u001b[38;5;28;01mas\u001b[39;00m e:\n",
      "File \u001b[0;32m~/opt/anaconda3/envs/estyl/lib/python3.11/site-packages/langchain_core/runnables/base.py:5354\u001b[0m, in \u001b[0;36mRunnableBindingBase.invoke\u001b[0;34m(self, input, config, **kwargs)\u001b[0m\n\u001b[1;32m   5348\u001b[0m \u001b[38;5;28;01mdef\u001b[39;00m \u001b[38;5;21minvoke\u001b[39m(\n\u001b[1;32m   5349\u001b[0m     \u001b[38;5;28mself\u001b[39m,\n\u001b[1;32m   5350\u001b[0m     \u001b[38;5;28minput\u001b[39m: Input,\n\u001b[1;32m   5351\u001b[0m     config: Optional[RunnableConfig] \u001b[38;5;241m=\u001b[39m \u001b[38;5;28;01mNone\u001b[39;00m,\n\u001b[1;32m   5352\u001b[0m     \u001b[38;5;241m*\u001b[39m\u001b[38;5;241m*\u001b[39mkwargs: Optional[Any],\n\u001b[1;32m   5353\u001b[0m ) \u001b[38;5;241m-\u001b[39m\u001b[38;5;241m>\u001b[39m Output:\n\u001b[0;32m-> 5354\u001b[0m     \u001b[38;5;28;01mreturn\u001b[39;00m \u001b[38;5;28mself\u001b[39m\u001b[38;5;241m.\u001b[39mbound\u001b[38;5;241m.\u001b[39minvoke(\n\u001b[1;32m   5355\u001b[0m         \u001b[38;5;28minput\u001b[39m,\n\u001b[1;32m   5356\u001b[0m         \u001b[38;5;28mself\u001b[39m\u001b[38;5;241m.\u001b[39m_merge_configs(config),\n\u001b[1;32m   5357\u001b[0m         \u001b[38;5;241m*\u001b[39m\u001b[38;5;241m*\u001b[39m{\u001b[38;5;241m*\u001b[39m\u001b[38;5;241m*\u001b[39m\u001b[38;5;28mself\u001b[39m\u001b[38;5;241m.\u001b[39mkwargs, \u001b[38;5;241m*\u001b[39m\u001b[38;5;241m*\u001b[39mkwargs},\n\u001b[1;32m   5358\u001b[0m     )\n",
      "File \u001b[0;32m~/opt/anaconda3/envs/estyl/lib/python3.11/site-packages/langchain_core/language_models/chat_models.py:287\u001b[0m, in \u001b[0;36mBaseChatModel.invoke\u001b[0;34m(self, input, config, stop, **kwargs)\u001b[0m\n\u001b[1;32m    275\u001b[0m \u001b[38;5;28;01mdef\u001b[39;00m \u001b[38;5;21minvoke\u001b[39m(\n\u001b[1;32m    276\u001b[0m     \u001b[38;5;28mself\u001b[39m,\n\u001b[1;32m    277\u001b[0m     \u001b[38;5;28minput\u001b[39m: LanguageModelInput,\n\u001b[0;32m   (...)\u001b[0m\n\u001b[1;32m    281\u001b[0m     \u001b[38;5;241m*\u001b[39m\u001b[38;5;241m*\u001b[39mkwargs: Any,\n\u001b[1;32m    282\u001b[0m ) \u001b[38;5;241m-\u001b[39m\u001b[38;5;241m>\u001b[39m BaseMessage:\n\u001b[1;32m    283\u001b[0m     config \u001b[38;5;241m=\u001b[39m ensure_config(config)\n\u001b[1;32m    284\u001b[0m     \u001b[38;5;28;01mreturn\u001b[39;00m cast(\n\u001b[1;32m    285\u001b[0m         ChatGeneration,\n\u001b[1;32m    286\u001b[0m         \u001b[38;5;28mself\u001b[39m\u001b[38;5;241m.\u001b[39mgenerate_prompt(\n\u001b[0;32m--> 287\u001b[0m             [\u001b[38;5;28mself\u001b[39m\u001b[38;5;241m.\u001b[39m_convert_input(\u001b[38;5;28minput\u001b[39m)],\n\u001b[1;32m    288\u001b[0m             stop\u001b[38;5;241m=\u001b[39mstop,\n\u001b[1;32m    289\u001b[0m             callbacks\u001b[38;5;241m=\u001b[39mconfig\u001b[38;5;241m.\u001b[39mget(\u001b[38;5;124m\"\u001b[39m\u001b[38;5;124mcallbacks\u001b[39m\u001b[38;5;124m\"\u001b[39m),\n\u001b[1;32m    290\u001b[0m             tags\u001b[38;5;241m=\u001b[39mconfig\u001b[38;5;241m.\u001b[39mget(\u001b[38;5;124m\"\u001b[39m\u001b[38;5;124mtags\u001b[39m\u001b[38;5;124m\"\u001b[39m),\n\u001b[1;32m    291\u001b[0m             metadata\u001b[38;5;241m=\u001b[39mconfig\u001b[38;5;241m.\u001b[39mget(\u001b[38;5;124m\"\u001b[39m\u001b[38;5;124mmetadata\u001b[39m\u001b[38;5;124m\"\u001b[39m),\n\u001b[1;32m    292\u001b[0m             run_name\u001b[38;5;241m=\u001b[39mconfig\u001b[38;5;241m.\u001b[39mget(\u001b[38;5;124m\"\u001b[39m\u001b[38;5;124mrun_name\u001b[39m\u001b[38;5;124m\"\u001b[39m),\n\u001b[1;32m    293\u001b[0m             run_id\u001b[38;5;241m=\u001b[39mconfig\u001b[38;5;241m.\u001b[39mpop(\u001b[38;5;124m\"\u001b[39m\u001b[38;5;124mrun_id\u001b[39m\u001b[38;5;124m\"\u001b[39m, \u001b[38;5;28;01mNone\u001b[39;00m),\n\u001b[1;32m    294\u001b[0m             \u001b[38;5;241m*\u001b[39m\u001b[38;5;241m*\u001b[39mkwargs,\n\u001b[1;32m    295\u001b[0m         )\u001b[38;5;241m.\u001b[39mgenerations[\u001b[38;5;241m0\u001b[39m][\u001b[38;5;241m0\u001b[39m],\n\u001b[1;32m    296\u001b[0m     )\u001b[38;5;241m.\u001b[39mmessage\n",
      "File \u001b[0;32m~/opt/anaconda3/envs/estyl/lib/python3.11/site-packages/langchain_core/language_models/chat_models.py:273\u001b[0m, in \u001b[0;36mBaseChatModel._convert_input\u001b[0;34m(self, input)\u001b[0m\n\u001b[1;32m    268\u001b[0m \u001b[38;5;28;01melse\u001b[39;00m:\n\u001b[1;32m    269\u001b[0m     msg \u001b[38;5;241m=\u001b[39m (\n\u001b[1;32m    270\u001b[0m         \u001b[38;5;124mf\u001b[39m\u001b[38;5;124m\"\u001b[39m\u001b[38;5;124mInvalid input type \u001b[39m\u001b[38;5;132;01m{\u001b[39;00m\u001b[38;5;28mtype\u001b[39m(\u001b[38;5;28minput\u001b[39m)\u001b[38;5;132;01m}\u001b[39;00m\u001b[38;5;124m. \u001b[39m\u001b[38;5;124m\"\u001b[39m\n\u001b[1;32m    271\u001b[0m         \u001b[38;5;124m\"\u001b[39m\u001b[38;5;124mMust be a PromptValue, str, or list of BaseMessages.\u001b[39m\u001b[38;5;124m\"\u001b[39m\n\u001b[1;32m    272\u001b[0m     )\n\u001b[0;32m--> 273\u001b[0m     \u001b[38;5;28;01mraise\u001b[39;00m \u001b[38;5;167;01mValueError\u001b[39;00m(msg)\n",
      "\u001b[0;31mValueError\u001b[0m: Invalid input type <class 'langchain_core.messages.ai.AIMessage'>. Must be a PromptValue, str, or list of BaseMessages."
     ]
    }
   ],
   "source": [
    "### Generate\n",
    "\n",
    "rag_chain = get_generate_chain(llm)\n",
    "\n",
    "# Run\n",
    "generation = rag_chain.invoke({\"context\": docs, \"question\": \"What is posh style?\", \"messages\": []})\n",
    "print(generation)"
   ]
  },
  {
   "cell_type": "code",
   "execution_count": 16,
   "id": "4f9f6624",
   "metadata": {},
   "outputs": [
    {
     "data": {
      "text/plain": [
       "GradeAnswer(binary_score='no', explanation=\"The answer provided does not address the user's question about 'posh style'.\")"
      ]
     },
     "execution_count": 16,
     "metadata": {},
     "output_type": "execute_result"
    }
   ],
   "source": [
    "from langchain_openai import ChatOpenAI \n",
    "from langchain_core.prompts import ChatPromptTemplate\n",
    "# from langchain_core.pydantic_v1 import BaseModel, Field\n",
    "from pydantic import BaseModel, Field\n",
    "\n",
    "### Answer Grader \n",
    "\n",
    "# Data model\n",
    "class Generation(BaseModel):\n",
    "    \"\"\"Binary score to assess answer addresses question.\"\"\"\n",
    "\n",
    "    binary_score: str = Field(description=\"Conversation arrived to a point where the user asked a specific outfit advice, 'yes' or 'no'\")\n",
    "    generation: str = Field(description=\"Generated answer\")\n",
    "\n",
    "def get_structured_llm_grader(llm):\n",
    "    return llm.with_structured_output(schema=GradeAnswer)\n",
    "\n",
    "structured_llm_grader = get_structured_llm_grader(llm)\n",
    "\n",
    "# Prompt \n",
    "system = \"\"\"You are a fashion stylist assistant focused on creating personalized outfit suggestions and providing fashion advice.\n",
    "\n",
    "If the user engages in small talk, answer appropriately. Then, engage by asking if they are interested in getting a specific outfit suggestion based on the advice, especially if the question is not clear.\n",
    "\n",
    "If the user talks about topics outside fashion or styling, remind the user that your job is to guide him in styling and provide outfit recommendations.\n",
    "\n",
    "If the user has a specific request for an outfit or look, confirm if what they are describing is correct. Once confirmed, suggest a complete look including a top, bottom, shoes, and any essential accessories. After suggesting the outfit, ask if it matches what the user had in mind and if they are happy with the choice. Adjust based on their feedback if needed. \n",
    "\n",
    "You can suggest outfits based on the context.\n",
    "\n",
    "Keep the conversation friendly, helpful, and engaging, ensuring that the user feels excited and confident \n",
    "about their style choices.\\n\n",
    "\n",
    "Based on the conversation, You will also assess whether the user has made a specific outfit request \\n \n",
    "Give a binary score 'yes' or 'no'. Yes' means that the answer resolves the question.\"\"\"\n",
    "answer_prompt = ChatPromptTemplate.from_messages(\n",
    "    [\n",
    "        (\"system\", system),\n",
    "        (\"human\", \"User question:\\n\\n {question} \\n\\n Context: {context} \\n\\n Conversation History: {messages}\"),\n",
    "    ]\n",
    ")\n",
    "\n",
    "answer_grader_chain = answer_prompt | structured_llm_grader\n",
    "\n",
    "#     return answer_grader_chain\n",
    "\n",
    "answer_grader_chain.invoke({\"question\": question,\"generation\": \"hello\"})"
   ]
  },
  {
   "cell_type": "code",
   "execution_count": 23,
   "id": "a6f9a0a2",
   "metadata": {},
   "outputs": [],
   "source": [
    "### Generate\n",
    "\n",
    "from langchain import hub\n",
    "from pydantic import BaseModel, Field\n",
    "from langchain_core.output_parsers import StrOutputParser\n",
    "from langgraph.checkpoint.memory import MemorySaver\n",
    "from langchain_core.prompts import ChatPromptTemplate\n",
    "from langchain_core.messages import HumanMessage, SystemMessage\n",
    "\n",
    "# Data model\n",
    "class Generation(BaseModel):\n",
    "    \"\"\"Generation and binary score to say whether a complete outfit suggestion is asked by a user.\"\"\"\n",
    "\n",
    "    binary_score: str = Field(description=\"Conversation arrived to a point where the user asked a specific outfit advice, 'yes' or 'no'\")\n",
    "    generation: str = Field(description=\"Generated answer\")\n",
    "    \n",
    "def get_structured_generation(llm):\n",
    "    return llm.with_structured_output(schema=Generation)\n",
    "\n",
    "# Prompt\n",
    "prompt = hub.pull(\"rlm/rag-prompt\")\n",
    "# prompt.messages[0].prompt.template\n",
    "GENERATION_INSTRUCTIONS = \"\"\"\n",
    "You are a fashion stylist assistant focused on creating personalized outfit suggestions and providing fashion advice.\n",
    "\n",
    "If the user engages in small talk, answer appropriately. Then, engage by asking if they are interested in getting a specific outfit suggestion based on the advice, especially if the question is not clear.\n",
    "\n",
    "If the user talks about topics outside fashion or styling, remind the user that your job is to guide him in styling and provide outfit recommendations.\n",
    "\n",
    "If the user has a specific request for an outfit or look, confirm if what they are describing is correct. Once confirmed, suggest a complete look including a top, bottom, shoes, and any essential accessories. After suggesting the outfit, ask if it matches what the user had in mind and if they are happy with the choice. Adjust based on their feedback if needed. \n",
    "\n",
    "You can suggest outfits based on the context.\n",
    "\n",
    "Keep the conversation friendly, helpful, and engaging, ensuring that the user feels excited and confident \n",
    "about their style choices.\\n\n",
    "\n",
    "Based on the conversation, You will also assess whether the user has made a specific outfit request \\n \n",
    "Give a binary score 'yes' or 'no'. Yes' means that the answer resolves the question.\n",
    "\n",
    "Output in JSON format:\n",
    "\n",
    "Generation: \"your response\"\n",
    "Binary score: \"outfit requested\"\n",
    "\n",
    "\"\"\"\n",
    "\n",
    "# LLM\n",
    "# llm = ChatMistralAI(model=mistral_model, temperature=0)\n",
    "# memory = MemorySaver()\n",
    "# Post-processing\n",
    "def format_docs(docs):\n",
    "    return \"\\n\\n\".join(doc.page_content for doc in docs)\n",
    "\n",
    "# LLM with structured output\n",
    "structured_generation = get_structured_generation(llm)\n",
    "\n",
    "# Define the prompt template\n",
    "prompt = ChatPromptTemplate.from_messages(\n",
    "    [\n",
    "        (\"system\", GENERATION_INSTRUCTIONS),\n",
    "        (\"human\", \"User question:\\n\\n {question} \\n\\n Context: {context} \\n\\n Conversation History: {messages}\"),\n",
    "    ]\n",
    ")\n",
    "\n",
    "# Chain\n",
    "rag_chain = prompt | structured_generation #StrOutputParser()\n",
    "\n",
    "# return rag_chain"
   ]
  },
  {
   "cell_type": "code",
   "execution_count": 24,
   "id": "0f355ccf",
   "metadata": {},
   "outputs": [
    {
     "name": "stdout",
     "output_type": "stream",
     "text": [
      "binary_score='no' generation='Posh style is all about sophistication, elegance, and luxury. It involves attention to detail, quality fabrics, and neutral color palettes. Classic, well-tailored dresses in luxurious fabrics are a staple of posh style. Do you want a specific outfit suggestion based on this posh style description?'\n"
     ]
    }
   ],
   "source": [
    "# ### Generate\n",
    "\n",
    "# rag_chain = get_generate_chain(llm)\n",
    "\n",
    "# Run\n",
    "generation = rag_chain.invoke({\"context\": docs, \"question\": \"What is posh style?\", \"messages\": []})\n",
    "print(generation)"
   ]
  },
  {
   "cell_type": "code",
   "execution_count": null,
   "id": "f0c08d14-77a0-4eed-b882-2d636abb22a3",
   "metadata": {},
   "outputs": [],
   "source": [
    "### Hallucination Grader \n",
    "\n",
    "# Data model\n",
    "hallucination_grader_chain = get_hallucination_grader_chain(llm)\n",
    "hallucination_grader_chain.invoke({\"documents\": docs, \"generation\": generation})"
   ]
  },
  {
   "cell_type": "code",
   "execution_count": null,
   "id": "ded99680-437a-4c9d-b860-619c88949d84",
   "metadata": {},
   "outputs": [],
   "source": [
    "### Answer Grader \n",
    "\n",
    "answer_grader_chain = get_answer_grader_chain(llm)\n",
    "answer_grader_chain.invoke({\"question\": question,\"generation\": generation})"
   ]
  },
  {
   "cell_type": "markdown",
   "id": "d07c0b31-b919-4498-869f-9673125c2473",
   "metadata": {},
   "source": [
    "## Web Search Tool"
   ]
  },
  {
   "cell_type": "code",
   "execution_count": null,
   "id": "01d829bb-1074-4976-b650-ead41dcb9788",
   "metadata": {},
   "outputs": [],
   "source": [
    "web_search_tool = get_web_search_tool()\n",
    "web_search_tool.invoke({\"query\": question})"
   ]
  },
  {
   "cell_type": "code",
   "execution_count": null,
   "id": "aff2d2a7",
   "metadata": {},
   "outputs": [],
   "source": [
    "web_search_tool"
   ]
  },
  {
   "cell_type": "markdown",
   "id": "efbbff0e-8843-45bb-b2ff-137bef707ef4",
   "metadata": {},
   "source": [
    "# Graph \n",
    "\n",
    "### Graph state"
   ]
  },
  {
   "cell_type": "markdown",
   "id": "3ab01f36-5628-49ab-bfd3-84bb6f1a1b0f",
   "metadata": {},
   "source": [
    "## Build Graph"
   ]
  },
  {
   "cell_type": "code",
   "execution_count": null,
   "id": "67854e07-9293-4c3c-bf9a-bc9a605570ee",
   "metadata": {},
   "outputs": [
    {
     "name": "stderr",
     "output_type": "stream",
     "text": [
      "Task exception was never retrieved\n",
      "future: <Task finished name='Task-7' coro=<AsyncClient.aclose() done, defined at /Users/mokkastudios/opt/anaconda3/envs/estyl/lib/python3.11/site-packages/httpx/_client.py:2024> exception=ImportError(\"cannot import name 'ExceptionGroup' from 'anyio._core._exceptions' (/Users/mokkastudios/opt/anaconda3/envs/estyl/lib/python3.11/site-packages/anyio/_core/_exceptions.py)\")>\n",
      "Traceback (most recent call last):\n",
      "  File \"/Users/mokkastudios/opt/anaconda3/envs/estyl/lib/python3.11/site-packages/anyio/_core/_eventloop.py\", line 162, in get_async_backend\n",
      "KeyError: 'asyncio'\n",
      "\n",
      "During handling of the above exception, another exception occurred:\n",
      "\n",
      "Traceback (most recent call last):\n",
      "  File \"/Users/mokkastudios/opt/anaconda3/envs/estyl/lib/python3.11/site-packages/httpx/_client.py\", line 2031, in aclose\n",
      "    await self._transport.aclose()\n",
      "  File \"/Users/mokkastudios/opt/anaconda3/envs/estyl/lib/python3.11/site-packages/httpx/_transports/default.py\", line 389, in aclose\n",
      "    await self._pool.aclose()\n",
      "  File \"/Users/mokkastudios/opt/anaconda3/envs/estyl/lib/python3.11/site-packages/httpcore/_async/connection_pool.py\", line 313, in aclose\n",
      "    await self._close_connections(closing_connections)\n",
      "  File \"/Users/mokkastudios/opt/anaconda3/envs/estyl/lib/python3.11/site-packages/httpcore/_async/connection_pool.py\", line 303, in _close_connections\n",
      "    with AsyncShieldCancellation():\n",
      "         ^^^^^^^^^^^^^^^^^^^^^^^^^\n",
      "  File \"/Users/mokkastudios/opt/anaconda3/envs/estyl/lib/python3.11/site-packages/httpcore/_synchronization.py\", line 207, in __init__\n",
      "    self._anyio_shield = anyio.CancelScope(shield=True)\n",
      "                         ^^^^^^^^^^^^^^^^^^^^^^^^^^^^^^\n",
      "  File \"/Users/mokkastudios/opt/anaconda3/envs/estyl/lib/python3.11/site-packages/anyio/_core/_tasks.py\", line 31, in __new__\n",
      "  File \"/Users/mokkastudios/opt/anaconda3/envs/estyl/lib/python3.11/site-packages/anyio/_core/_eventloop.py\", line 164, in get_async_backend\n",
      "  File \"/Users/mokkastudios/opt/anaconda3/envs/estyl/lib/python3.11/importlib/__init__.py\", line 126, in import_module\n",
      "    return _bootstrap._gcd_import(name[level:], package, level)\n",
      "           ^^^^^^^^^^^^^^^^^^^^^^^^^^^^^^^^^^^^^^^^^^^^^^^^^^^^\n",
      "  File \"<frozen importlib._bootstrap>\", line 1204, in _gcd_import\n",
      "  File \"<frozen importlib._bootstrap>\", line 1176, in _find_and_load\n",
      "  File \"<frozen importlib._bootstrap>\", line 1147, in _find_and_load_unlocked\n",
      "  File \"<frozen importlib._bootstrap>\", line 690, in _load_unlocked\n",
      "  File \"<frozen importlib._bootstrap_external>\", line 940, in exec_module\n",
      "  File \"<frozen importlib._bootstrap>\", line 241, in _call_with_frames_removed\n",
      "  File \"/Users/mokkastudios/opt/anaconda3/envs/estyl/lib/python3.11/site-packages/anyio/_backends/_asyncio.py\", line 61, in <module>\n",
      "    from .._core._exceptions import ExceptionGroup as BaseExceptionGroup\n",
      "ImportError: cannot import name 'ExceptionGroup' from 'anyio._core._exceptions' (/Users/mokkastudios/opt/anaconda3/envs/estyl/lib/python3.11/site-packages/anyio/_core/_exceptions.py)\n",
      "Task exception was never retrieved\n",
      "future: <Task finished name='Task-8' coro=<AsyncClient.aclose() done, defined at /Users/mokkastudios/opt/anaconda3/envs/estyl/lib/python3.11/site-packages/httpx/_client.py:2024> exception=ImportError(\"cannot import name 'ExceptionGroup' from 'anyio._core._exceptions' (/Users/mokkastudios/opt/anaconda3/envs/estyl/lib/python3.11/site-packages/anyio/_core/_exceptions.py)\")>\n",
      "Traceback (most recent call last):\n",
      "  File \"/Users/mokkastudios/opt/anaconda3/envs/estyl/lib/python3.11/site-packages/anyio/_core/_eventloop.py\", line 162, in get_async_backend\n",
      "KeyError: 'asyncio'\n",
      "\n",
      "During handling of the above exception, another exception occurred:\n",
      "\n",
      "Traceback (most recent call last):\n",
      "  File \"/Users/mokkastudios/opt/anaconda3/envs/estyl/lib/python3.11/site-packages/httpx/_client.py\", line 2031, in aclose\n",
      "    await self._transport.aclose()\n",
      "  File \"/Users/mokkastudios/opt/anaconda3/envs/estyl/lib/python3.11/site-packages/httpx/_transports/default.py\", line 389, in aclose\n",
      "    await self._pool.aclose()\n",
      "  File \"/Users/mokkastudios/opt/anaconda3/envs/estyl/lib/python3.11/site-packages/httpcore/_async/connection_pool.py\", line 313, in aclose\n",
      "    await self._close_connections(closing_connections)\n",
      "  File \"/Users/mokkastudios/opt/anaconda3/envs/estyl/lib/python3.11/site-packages/httpcore/_async/connection_pool.py\", line 303, in _close_connections\n",
      "    with AsyncShieldCancellation():\n",
      "         ^^^^^^^^^^^^^^^^^^^^^^^^^\n",
      "  File \"/Users/mokkastudios/opt/anaconda3/envs/estyl/lib/python3.11/site-packages/httpcore/_synchronization.py\", line 207, in __init__\n",
      "    self._anyio_shield = anyio.CancelScope(shield=True)\n",
      "                         ^^^^^^^^^^^^^^^^^^^^^^^^^^^^^^\n",
      "  File \"/Users/mokkastudios/opt/anaconda3/envs/estyl/lib/python3.11/site-packages/anyio/_core/_tasks.py\", line 31, in __new__\n",
      "  File \"/Users/mokkastudios/opt/anaconda3/envs/estyl/lib/python3.11/site-packages/anyio/_core/_eventloop.py\", line 164, in get_async_backend\n",
      "  File \"/Users/mokkastudios/opt/anaconda3/envs/estyl/lib/python3.11/importlib/__init__.py\", line 126, in import_module\n",
      "    return _bootstrap._gcd_import(name[level:], package, level)\n",
      "           ^^^^^^^^^^^^^^^^^^^^^^^^^^^^^^^^^^^^^^^^^^^^^^^^^^^^\n",
      "  File \"<frozen importlib._bootstrap>\", line 1204, in _gcd_import\n",
      "  File \"<frozen importlib._bootstrap>\", line 1176, in _find_and_load\n",
      "  File \"<frozen importlib._bootstrap>\", line 1147, in _find_and_load_unlocked\n",
      "  File \"<frozen importlib._bootstrap>\", line 690, in _load_unlocked\n",
      "  File \"<frozen importlib._bootstrap_external>\", line 940, in exec_module\n",
      "  File \"<frozen importlib._bootstrap>\", line 241, in _call_with_frames_removed\n",
      "  File \"/Users/mokkastudios/opt/anaconda3/envs/estyl/lib/python3.11/site-packages/anyio/_backends/_asyncio.py\", line 61, in <module>\n",
      "    from .._core._exceptions import ExceptionGroup as BaseExceptionGroup\n",
      "ImportError: cannot import name 'ExceptionGroup' from 'anyio._core._exceptions' (/Users/mokkastudios/opt/anaconda3/envs/estyl/lib/python3.11/site-packages/anyio/_core/_exceptions.py)\n"
     ]
    }
   ],
   "source": [
    "chat_graph = create_graph()\n",
    "display(Image(chat_graph.get_graph().draw_mermaid_png()))"
   ]
  },
  {
   "cell_type": "code",
   "execution_count": 29,
   "id": "29acc541-d726-4b75-84d1-a215845fe88a",
   "metadata": {},
   "outputs": [
    {
     "name": "stdout",
     "output_type": "stream",
     "text": [
      "---ROUTE QUESTION---\n",
      "---ROUTE QUESTION TO RAG---\n",
      "---RETRIEVE---\n",
      "documents 2:  [Document(id='f5eabe7f-9616-4b2b-b18a-2c7d3b97f6d0', metadata={'source': 'pdfs/ESTYL _ STYLE GUIDE (pdf).pdf', 'page': 2}, page_content=\"POSHPosh Style typically refers to a sophisticated, elegant, and polished fashion aesthetic associated with luxury and class. It's often aligned with upper-class sensibilities and chic, timeless design elements. The posh look is characterized by attention to detail, quality fabrics, a neutral or muted color palette, and an understated sense of opulence.   Classic, well-tailored dresses are the hallmark of posh style. Think elegant sheath dresses, midi or tea-length dresses, and A-line silhouettes in luxurious fabrics like silk, satin, or cashmere. Timeless designs in neutral shades like black, white, navy, or cream dominate, though bold jewel tones (emerald, burgundy, royal blue) are also seen. Minimalist detailing such as clean lines, structured silhouettes, and subtle embellishments like pearls or lace are common.\"), Document(id='dd36c3e6-dbd6-4abf-ac7a-31ea35e742ac', metadata={'source': 'pdfs/ESTYL _ STYLE GUIDE (pdf).pdf', 'page': 3}, page_content='•Tops & Bottoms: Blouses made from delicate fabrics like silk, satin, or chiffon paired with tailored trousers or pencil skirts are quintessential for a posh look. Crisp button-down shirts, often in white or pastels, give off a sophisticated vibe, especially when tucked into high-waisted, wide-leg pants. Monochromatic outfits or minimalistic prints like houndstooth, pinstripes, or subtle florals add to the elegance. •Suits & Tailoring: Structured blazers, often with sharp tailoring, are key to posh style. A well-fitted suit in a luxurious fabric like wool or tweed elevates the look for more formal settings. Suits in neutral tones or bold colors like navy or emerald green give off an aura of power and refinement. •Heels: Pointed-toe stilettos or sleek pumps in leather or suede are a classic choice. For a more modern twist, kitten heels or block-heeled mules are also suitable for posh outfits. Colors like nude, black, or soft pastels keep the look sophisticated. •Flats: Ballet flats or'), Document(id='108fd575-3ace-44e8-a9ab-bb36cc1e77fd', metadata={'source': 'pdfs/ESTYL _ STYLE GUIDE (pdf).pdf', 'page': 3}, page_content='choice. For a more modern twist, kitten heels or block-heeled mules are also suitable for posh outfits. Colors like nude, black, or soft pastels keep the look sophisticated. •Flats: Ballet flats or loafers in high-quality materials (leather, velvet) are ideal for those who want a chic yet comfortable option. Flats with subtle embellishments like gold buckles or metallic accents add a touch of luxury. •Boots: In cooler weather, knee-high boots in soft leather or suede complement posh outfits, especially when paired with skirts or tailored trousers. Classic colors like black, taupe, or tan maintain the refined look. •Jewelry: Posh style favors understated yet luxurious jewelry. Pearl earrings, delicate gold necklaces, and tennis bracelets made from diamonds or fine gems are typical. Avoid oversized or overly flashy pieces in favor of subtle elegance. •Bags: Structured handbags or clutches in leather or designer styles are preferred. Iconic brands like Chanel, Hermès, or Gucci are often'), Document(id='e37708cb-7134-44a9-95ea-1650e161cd80', metadata={'source': 'pdfs/ESTYL _ STYLE GUIDE (pdf).pdf', 'page': 4}, page_content=\"•Dress Shoes: Polished leather Oxfords or brogues are a staple of posh men's fashion. Shoes in black or brown are versatile and complement any formal outfit. For a more contemporary twist, loafers in suede or velvet add a touch of luxury. •Casual Shoes: For less formal settings, leather or suede loafers, Chelsea boots, or designer sneakers (in minimalist styles) can add a touch of sophistication while maintaining comfort. •Watches: A high-quality timepiece is a defining accessory for posh style. Classic brands like Rolex, Patek Philippe, or Cartier are favored. Choose a sleek design with a leather or metal band that exudes timeless elegance. •Ties & Pocket Squares: Silk ties in classic patterns (stripes, dots, or solids) add polish to any suit. Pocket squares in complementary colors or patterns provide a dash of personality. •Belts: Leather belts with understated metal buckles, in black or brown, are essential for pulling together a refined outfit.\")]\n",
      "'Finished running: retrieve:'\n",
      "---CHECK DOCUMENT RELEVANCE TO QUESTION---\n",
      "---GRADE: DOCUMENT RELEVANT---\n",
      "---GRADE: DOCUMENT RELEVANT---\n",
      "---GRADE: DOCUMENT RELEVANT---\n",
      "---GRADE: DOCUMENT RELEVANT---\n",
      "---ASSESS GRADED DOCUMENTS---\n",
      "---DECISION: GENERATE---\n",
      "'Finished running: grade_documents:'\n",
      "---GENERATE---\n",
      "---CHECK HALLUCINATIONS---\n",
      "---DECISION: GENERATION IS GROUNDED IN DOCUMENTS---\n",
      "---GRADE GENERATION vs QUESTION---\n",
      "---DECISION: GENERATION ADDRESSES QUESTION---\n",
      "'Finished running: generate:'\n"
     ]
    },
    {
     "data": {
      "text/plain": [
       "\"Posh style refers to a sophisticated, elegant, and polished fashion aesthetic associated with luxury and class. It's characterized by attention to detail, quality fabrics, and neutral or muted color palettes. Posh style includes classic, well-tailored dresses, structured blazers, and polished leather accessories.\""
      ]
     },
     "execution_count": 29,
     "metadata": {},
     "output_type": "execute_result"
    }
   ],
   "source": [
    "from pprint import pprint\n",
    "inputs = {\"question\": \"What is posh style\"}\n",
    "config = {\"configurable\": {\"thread_id\": \"1\"}}\n",
    "for output in chat_graph.stream(inputs, config):\n",
    "    for key, value in output.items():\n",
    "        pprint(f\"Finished running: {key}:\")\n",
    "value[\"generation\"]"
   ]
  },
  {
   "cell_type": "code",
   "execution_count": 38,
   "id": "af6e73b0",
   "metadata": {},
   "outputs": [
    {
     "name": "stdout",
     "output_type": "stream",
     "text": [
      "---ROUTE QUESTION---\n",
      "---ROUTE QUESTION TO RAG---\n",
      "---RETRIEVE---\n",
      "documents 2:  [Document(id='f5eabe7f-9616-4b2b-b18a-2c7d3b97f6d0', metadata={'source': 'pdfs/ESTYL _ STYLE GUIDE (pdf).pdf', 'page': 2}, page_content=\"POSHPosh Style typically refers to a sophisticated, elegant, and polished fashion aesthetic associated with luxury and class. It's often aligned with upper-class sensibilities and chic, timeless design elements. The posh look is characterized by attention to detail, quality fabrics, a neutral or muted color palette, and an understated sense of opulence.   Classic, well-tailored dresses are the hallmark of posh style. Think elegant sheath dresses, midi or tea-length dresses, and A-line silhouettes in luxurious fabrics like silk, satin, or cashmere. Timeless designs in neutral shades like black, white, navy, or cream dominate, though bold jewel tones (emerald, burgundy, royal blue) are also seen. Minimalist detailing such as clean lines, structured silhouettes, and subtle embellishments like pearls or lace are common.\"), Document(id='dd36c3e6-dbd6-4abf-ac7a-31ea35e742ac', metadata={'source': 'pdfs/ESTYL _ STYLE GUIDE (pdf).pdf', 'page': 3}, page_content='•Tops & Bottoms: Blouses made from delicate fabrics like silk, satin, or chiffon paired with tailored trousers or pencil skirts are quintessential for a posh look. Crisp button-down shirts, often in white or pastels, give off a sophisticated vibe, especially when tucked into high-waisted, wide-leg pants. Monochromatic outfits or minimalistic prints like houndstooth, pinstripes, or subtle florals add to the elegance. •Suits & Tailoring: Structured blazers, often with sharp tailoring, are key to posh style. A well-fitted suit in a luxurious fabric like wool or tweed elevates the look for more formal settings. Suits in neutral tones or bold colors like navy or emerald green give off an aura of power and refinement. •Heels: Pointed-toe stilettos or sleek pumps in leather or suede are a classic choice. For a more modern twist, kitten heels or block-heeled mules are also suitable for posh outfits. Colors like nude, black, or soft pastels keep the look sophisticated. •Flats: Ballet flats or'), Document(id='108fd575-3ace-44e8-a9ab-bb36cc1e77fd', metadata={'source': 'pdfs/ESTYL _ STYLE GUIDE (pdf).pdf', 'page': 3}, page_content='choice. For a more modern twist, kitten heels or block-heeled mules are also suitable for posh outfits. Colors like nude, black, or soft pastels keep the look sophisticated. •Flats: Ballet flats or loafers in high-quality materials (leather, velvet) are ideal for those who want a chic yet comfortable option. Flats with subtle embellishments like gold buckles or metallic accents add a touch of luxury. •Boots: In cooler weather, knee-high boots in soft leather or suede complement posh outfits, especially when paired with skirts or tailored trousers. Classic colors like black, taupe, or tan maintain the refined look. •Jewelry: Posh style favors understated yet luxurious jewelry. Pearl earrings, delicate gold necklaces, and tennis bracelets made from diamonds or fine gems are typical. Avoid oversized or overly flashy pieces in favor of subtle elegance. •Bags: Structured handbags or clutches in leather or designer styles are preferred. Iconic brands like Chanel, Hermès, or Gucci are often'), Document(id='e37708cb-7134-44a9-95ea-1650e161cd80', metadata={'source': 'pdfs/ESTYL _ STYLE GUIDE (pdf).pdf', 'page': 4}, page_content=\"•Dress Shoes: Polished leather Oxfords or brogues are a staple of posh men's fashion. Shoes in black or brown are versatile and complement any formal outfit. For a more contemporary twist, loafers in suede or velvet add a touch of luxury. •Casual Shoes: For less formal settings, leather or suede loafers, Chelsea boots, or designer sneakers (in minimalist styles) can add a touch of sophistication while maintaining comfort. •Watches: A high-quality timepiece is a defining accessory for posh style. Classic brands like Rolex, Patek Philippe, or Cartier are favored. Choose a sleek design with a leather or metal band that exudes timeless elegance. •Ties & Pocket Squares: Silk ties in classic patterns (stripes, dots, or solids) add polish to any suit. Pocket squares in complementary colors or patterns provide a dash of personality. •Belts: Leather belts with understated metal buckles, in black or brown, are essential for pulling together a refined outfit.\")]\n",
      "'Finished running: retrieve:'\n",
      "---CHECK DOCUMENT RELEVANCE TO QUESTION---\n",
      "---GRADE: DOCUMENT RELEVANT---\n",
      "---GRADE: DOCUMENT RELEVANT---\n",
      "---GRADE: DOCUMENT RELEVANT---\n",
      "---GRADE: DOCUMENT RELEVANT---\n",
      "---ASSESS GRADED DOCUMENTS---\n",
      "---DECISION: GENERATE---\n",
      "'Finished running: grade_documents:'\n",
      "---GENERATE---\n",
      "---CHECK HALLUCINATIONS---\n",
      "---DECISION: GENERATION IS GROUNDED IN DOCUMENTS---\n",
      "---GRADE GENERATION vs QUESTION---\n",
      "---DECISION: GENERATION ADDRESSES QUESTION---\n",
      "'Finished running: generate:'\n"
     ]
    },
    {
     "data": {
      "text/plain": [
       "'Posh style refers to a sophisticated, elegant, and polished fashion aesthetic associated with luxury and class, often aligned with upper-class sensibilities. It involves attention to detail, quality fabrics, a neutral or muted color palette, and an understated sense of opulence. Classic, well-tailored dresses and structured blazers are key elements of posh style.'"
      ]
     },
     "execution_count": 38,
     "metadata": {},
     "output_type": "execute_result"
    }
   ],
   "source": [
    "from pprint import pprint\n",
    "inputs = {\"question\": \"What is posh style\"}\n",
    "config = {\"configurable\": {\"thread_id\": \"1\"}}\n",
    "events = chat_graph.stream(inputs, config)\n",
    "for output in events:\n",
    "    for key, value in output.items():\n",
    "        pprint(f\"Finished running: {key}:\")\n",
    "value[\"generation\"]"
   ]
  },
  {
   "cell_type": "code",
   "execution_count": 39,
   "id": "0431b826",
   "metadata": {},
   "outputs": [
    {
     "data": {
      "text/plain": [
       "<generator object Pregel.stream at 0x11fe8fde0>"
      ]
     },
     "execution_count": 39,
     "metadata": {},
     "output_type": "execute_result"
    }
   ],
   "source": [
    "events"
   ]
  },
  {
   "cell_type": "code",
   "execution_count": 30,
   "id": "82883f67",
   "metadata": {},
   "outputs": [
    {
     "data": {
      "text/plain": [
       "\"Posh style refers to a sophisticated, elegant, and polished fashion aesthetic associated with luxury and class. It's characterized by attention to detail, quality fabrics, and neutral or muted color palettes. Posh style includes classic, well-tailored dresses, structured blazers, and polished leather accessories.\""
      ]
     },
     "execution_count": 30,
     "metadata": {},
     "output_type": "execute_result"
    }
   ],
   "source": [
    "value[\"generation\"]"
   ]
  },
  {
   "cell_type": "code",
   "execution_count": null,
   "id": "2e8a7537",
   "metadata": {},
   "outputs": [],
   "source": [
    "inputs = {\n",
    "    \"question\": \"hello\",\n",
    "    \"llm\": llm,  # Pass LLM # Pass retriever\n",
    "}\n",
    "\n",
    "config = {\"configurable\": {\"thread_id\": \"1\"}}\n",
    "\n",
    "# Run the graph with the initialized state\n",
    "for output in chat_graph.stream(inputs, config):\n",
    "    print(output)"
   ]
  },
  {
   "cell_type": "code",
   "execution_count": 16,
   "id": "67c1e693",
   "metadata": {},
   "outputs": [
    {
     "data": {
      "text/plain": [
       "['InputType',\n",
       " 'OutputType',\n",
       " '__abstractmethods__',\n",
       " '__annotations__',\n",
       " '__class__',\n",
       " '__class_getitem__',\n",
       " '__delattr__',\n",
       " '__dict__',\n",
       " '__dir__',\n",
       " '__doc__',\n",
       " '__eq__',\n",
       " '__format__',\n",
       " '__ge__',\n",
       " '__getattribute__',\n",
       " '__getstate__',\n",
       " '__gt__',\n",
       " '__hash__',\n",
       " '__init__',\n",
       " '__init_subclass__',\n",
       " '__le__',\n",
       " '__lt__',\n",
       " '__module__',\n",
       " '__ne__',\n",
       " '__new__',\n",
       " '__or__',\n",
       " '__orig_bases__',\n",
       " '__parameters__',\n",
       " '__reduce__',\n",
       " '__reduce_ex__',\n",
       " '__repr__',\n",
       " '__ror__',\n",
       " '__setattr__',\n",
       " '__sizeof__',\n",
       " '__slots__',\n",
       " '__str__',\n",
       " '__subclasshook__',\n",
       " '__weakref__',\n",
       " '_abatch_with_config',\n",
       " '_abc_impl',\n",
       " '_acall_with_config',\n",
       " '_aprepare_state_snapshot',\n",
       " '_atransform_stream_with_config',\n",
       " '_batch_with_config',\n",
       " '_call_with_config',\n",
       " '_defaults',\n",
       " '_is_protocol',\n",
       " '_prepare_state_snapshot',\n",
       " '_transform_stream_with_config',\n",
       " 'abatch',\n",
       " 'abatch_as_completed',\n",
       " 'aget_state',\n",
       " 'aget_state_history',\n",
       " 'aget_subgraphs',\n",
       " 'ainvoke',\n",
       " 'as_tool',\n",
       " 'assign',\n",
       " 'astream',\n",
       " 'astream_events',\n",
       " 'astream_log',\n",
       " 'atransform',\n",
       " 'attach_branch',\n",
       " 'attach_edge',\n",
       " 'attach_node',\n",
       " 'aupdate_state',\n",
       " 'batch',\n",
       " 'batch_as_completed',\n",
       " 'bind',\n",
       " 'builder',\n",
       " 'channels',\n",
       " 'checkpointer',\n",
       " 'config',\n",
       " 'config_schema',\n",
       " 'config_specs',\n",
       " 'config_type',\n",
       " 'copy',\n",
       " 'debug',\n",
       " 'get_config_jsonschema',\n",
       " 'get_graph',\n",
       " 'get_input_jsonschema',\n",
       " 'get_input_schema',\n",
       " 'get_name',\n",
       " 'get_output_jsonschema',\n",
       " 'get_output_schema',\n",
       " 'get_prompts',\n",
       " 'get_state',\n",
       " 'get_state_history',\n",
       " 'get_subgraphs',\n",
       " 'input_channels',\n",
       " 'input_schema',\n",
       " 'interrupt_after_nodes',\n",
       " 'interrupt_before_nodes',\n",
       " 'invoke',\n",
       " 'map',\n",
       " 'name',\n",
       " 'nodes',\n",
       " 'output_channels',\n",
       " 'output_schema',\n",
       " 'pick',\n",
       " 'pipe',\n",
       " 'retry_policy',\n",
       " 'step_timeout',\n",
       " 'store',\n",
       " 'stream',\n",
       " 'stream_channels',\n",
       " 'stream_channels_asis',\n",
       " 'stream_channels_list',\n",
       " 'stream_mode',\n",
       " 'transform',\n",
       " 'update_state',\n",
       " 'validate',\n",
       " 'with_alisteners',\n",
       " 'with_config',\n",
       " 'with_fallbacks',\n",
       " 'with_listeners',\n",
       " 'with_retry',\n",
       " 'with_types']"
      ]
     },
     "execution_count": 16,
     "metadata": {},
     "output_type": "execute_result"
    }
   ],
   "source": [
    "dir(chat_graph)"
   ]
  },
  {
   "cell_type": "code",
   "execution_count": 19,
   "id": "8770a673",
   "metadata": {},
   "outputs": [
    {
     "data": {
      "text/plain": [
       "['__annotations__',\n",
       " '__class__',\n",
       " '__delattr__',\n",
       " '__dict__',\n",
       " '__dir__',\n",
       " '__doc__',\n",
       " '__eq__',\n",
       " '__format__',\n",
       " '__ge__',\n",
       " '__getattribute__',\n",
       " '__getstate__',\n",
       " '__gt__',\n",
       " '__hash__',\n",
       " '__init__',\n",
       " '__init_subclass__',\n",
       " '__le__',\n",
       " '__lt__',\n",
       " '__module__',\n",
       " '__ne__',\n",
       " '__new__',\n",
       " '__reduce__',\n",
       " '__reduce_ex__',\n",
       " '__repr__',\n",
       " '__setattr__',\n",
       " '__sizeof__',\n",
       " '__str__',\n",
       " '__subclasshook__',\n",
       " '__weakref__',\n",
       " '_add_schema',\n",
       " '_all_edges',\n",
       " 'add_conditional_edges',\n",
       " 'add_edge',\n",
       " 'add_node',\n",
       " 'branches',\n",
       " 'channels',\n",
       " 'compile',\n",
       " 'compiled',\n",
       " 'config_schema',\n",
       " 'edges',\n",
       " 'input',\n",
       " 'managed',\n",
       " 'nodes',\n",
       " 'output',\n",
       " 'schema',\n",
       " 'schemas',\n",
       " 'set_conditional_entry_point',\n",
       " 'set_entry_point',\n",
       " 'set_finish_point',\n",
       " 'support_multiple_edges',\n",
       " 'validate',\n",
       " 'waiting_edges']"
      ]
     },
     "execution_count": 19,
     "metadata": {},
     "output_type": "execute_result"
    }
   ],
   "source": [
    "dir(workflow)"
   ]
  },
  {
   "cell_type": "code",
   "execution_count": 14,
   "id": "397c389a",
   "metadata": {},
   "outputs": [
    {
     "data": {
      "text/plain": [
       "<bound method CompiledGraph.get_graph of <langgraph.graph.state.CompiledStateGraph object at 0x108fa2350>>"
      ]
     },
     "execution_count": 14,
     "metadata": {},
     "output_type": "execute_result"
    }
   ],
   "source": [
    "chat_graph.get_graph"
   ]
  },
  {
   "cell_type": "code",
   "execution_count": 28,
   "id": "629a6cec",
   "metadata": {},
   "outputs": [
    {
     "data": {
      "text/plain": [
       "langgraph.graph.state.StateGraph"
      ]
     },
     "execution_count": 28,
     "metadata": {},
     "output_type": "execute_result"
    }
   ],
   "source": [
    "type(workflow)"
   ]
  },
  {
   "cell_type": "code",
   "execution_count": 29,
   "id": "13c3e281",
   "metadata": {},
   "outputs": [],
   "source": [
    "from langgraph.graph import StateGraph"
   ]
  },
  {
   "cell_type": "code",
   "execution_count": 30,
   "id": "17998146",
   "metadata": {},
   "outputs": [],
   "source": [
    "StateGraph??"
   ]
  },
  {
   "cell_type": "code",
   "execution_count": 33,
   "id": "772b1caf",
   "metadata": {},
   "outputs": [
    {
     "data": {
      "text/plain": [
       "['InputType',\n",
       " 'OutputType',\n",
       " '__abstractmethods__',\n",
       " '__annotations__',\n",
       " '__class__',\n",
       " '__class_getitem__',\n",
       " '__delattr__',\n",
       " '__dict__',\n",
       " '__dir__',\n",
       " '__doc__',\n",
       " '__eq__',\n",
       " '__format__',\n",
       " '__ge__',\n",
       " '__getattribute__',\n",
       " '__getstate__',\n",
       " '__gt__',\n",
       " '__hash__',\n",
       " '__init__',\n",
       " '__init_subclass__',\n",
       " '__le__',\n",
       " '__lt__',\n",
       " '__module__',\n",
       " '__ne__',\n",
       " '__new__',\n",
       " '__or__',\n",
       " '__orig_bases__',\n",
       " '__parameters__',\n",
       " '__reduce__',\n",
       " '__reduce_ex__',\n",
       " '__repr__',\n",
       " '__ror__',\n",
       " '__setattr__',\n",
       " '__sizeof__',\n",
       " '__slots__',\n",
       " '__str__',\n",
       " '__subclasshook__',\n",
       " '__weakref__',\n",
       " '_abatch_with_config',\n",
       " '_abc_impl',\n",
       " '_acall_with_config',\n",
       " '_aprepare_state_snapshot',\n",
       " '_atransform_stream_with_config',\n",
       " '_batch_with_config',\n",
       " '_call_with_config',\n",
       " '_defaults',\n",
       " '_is_protocol',\n",
       " '_prepare_state_snapshot',\n",
       " '_transform_stream_with_config',\n",
       " 'abatch',\n",
       " 'abatch_as_completed',\n",
       " 'aget_state',\n",
       " 'aget_state_history',\n",
       " 'aget_subgraphs',\n",
       " 'ainvoke',\n",
       " 'as_tool',\n",
       " 'assign',\n",
       " 'astream',\n",
       " 'astream_events',\n",
       " 'astream_log',\n",
       " 'atransform',\n",
       " 'attach_branch',\n",
       " 'attach_edge',\n",
       " 'attach_node',\n",
       " 'aupdate_state',\n",
       " 'batch',\n",
       " 'batch_as_completed',\n",
       " 'bind',\n",
       " 'builder',\n",
       " 'channels',\n",
       " 'checkpointer',\n",
       " 'config',\n",
       " 'config_schema',\n",
       " 'config_specs',\n",
       " 'config_type',\n",
       " 'copy',\n",
       " 'debug',\n",
       " 'get_config_jsonschema',\n",
       " 'get_graph',\n",
       " 'get_input_jsonschema',\n",
       " 'get_input_schema',\n",
       " 'get_name',\n",
       " 'get_output_jsonschema',\n",
       " 'get_output_schema',\n",
       " 'get_prompts',\n",
       " 'get_state',\n",
       " 'get_state_history',\n",
       " 'get_subgraphs',\n",
       " 'input_channels',\n",
       " 'input_schema',\n",
       " 'interrupt_after_nodes',\n",
       " 'interrupt_before_nodes',\n",
       " 'invoke',\n",
       " 'map',\n",
       " 'name',\n",
       " 'nodes',\n",
       " 'output_channels',\n",
       " 'output_schema',\n",
       " 'pick',\n",
       " 'pipe',\n",
       " 'retry_policy',\n",
       " 'step_timeout',\n",
       " 'store',\n",
       " 'stream',\n",
       " 'stream_channels',\n",
       " 'stream_channels_asis',\n",
       " 'stream_channels_list',\n",
       " 'stream_mode',\n",
       " 'transform',\n",
       " 'update_state',\n",
       " 'validate',\n",
       " 'with_alisteners',\n",
       " 'with_config',\n",
       " 'with_fallbacks',\n",
       " 'with_listeners',\n",
       " 'with_retry',\n",
       " 'with_types']"
      ]
     },
     "execution_count": 33,
     "metadata": {},
     "output_type": "execute_result"
    }
   ],
   "source": [
    "dir(chat_graph)"
   ]
  },
  {
   "cell_type": "code",
   "execution_count": 39,
   "id": "86a6d450",
   "metadata": {},
   "outputs": [
    {
     "ename": "AttributeError",
     "evalue": "'LastValue' object has no attribute 'value'",
     "output_type": "error",
     "traceback": [
      "\u001b[0;31m---------------------------------------------------------------------------\u001b[0m",
      "\u001b[0;31mAttributeError\u001b[0m                            Traceback (most recent call last)",
      "Cell \u001b[0;32mIn[39], line 1\u001b[0m\n\u001b[0;32m----> 1\u001b[0m chat_graph\u001b[38;5;241m.\u001b[39mchannels[\u001b[38;5;124m\"\u001b[39m\u001b[38;5;124mdocuments\u001b[39m\u001b[38;5;124m\"\u001b[39m]\u001b[38;5;241m.\u001b[39mvalue\n",
      "\u001b[0;31mAttributeError\u001b[0m: 'LastValue' object has no attribute 'value'"
     ]
    }
   ],
   "source": [
    "chat_graph.channels[\"documents\"]"
   ]
  },
  {
   "cell_type": "code",
   "execution_count": null,
   "id": "7ca16d9b",
   "metadata": {},
   "outputs": [],
   "source": []
  }
 ],
 "metadata": {
  "kernelspec": {
   "display_name": "estyl",
   "language": "python",
   "name": "estyl"
  },
  "language_info": {
   "codemirror_mode": {
    "name": "ipython",
    "version": 3
   },
   "file_extension": ".py",
   "mimetype": "text/x-python",
   "name": "python",
   "nbconvert_exporter": "python",
   "pygments_lexer": "ipython3",
   "version": "3.11.9"
  }
 },
 "nbformat": 4,
 "nbformat_minor": 5
}
